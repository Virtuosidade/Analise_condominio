{
  "nbformat": 4,
  "nbformat_minor": 0,
  "metadata": {
    "colab": {
      "name": "fase3_entrega3.ipynb",
      "provenance": []
    },
    "kernelspec": {
      "name": "python3",
      "display_name": "Python 3"
    },
    "language_info": {
      "name": "python"
    }
  },
  "cells": [
    {
      "cell_type": "markdown",
      "source": [
        "Proposta StoryTelling:\n",
        "\n",
        "Checaremos a segurança dos moradores dos 2 condomínios por meio de algumas métricas, dentre as quais:\n",
        "\n",
        "- Outliers nos horários de entrada e saída dos moradores\n",
        "- Os dias da semana que as pessoas mais costumam sair e possíveis inconsistências\n",
        "- Os tipos de veículos mais utilizados pelos moradores\n",
        "- Verificar possível correlação entre o dia da semana e o horário de entrada e saída\n",
        "- Verificar a movimentação de ambos os condomínios nos últimos meses"
      ],
      "metadata": {
        "id": "F8P5tA6eAnVb"
      }
    },
    {
      "cell_type": "code",
      "execution_count": null,
      "metadata": {
        "id": "Mz5Jme3hC1rn"
      },
      "outputs": [],
      "source": [
        "import pandas as pd\n",
        "import numpy as np\n",
        "import matplotlib.pyplot as plt\n",
        "import seaborn as sns\n",
        "import datetime"
      ]
    },
    {
      "cell_type": "code",
      "source": [
        "from statsmodels.tsa.stattools import adfuller\n",
        "from statsmodels.graphics.tsaplots import plot_acf, plot_pacf\n",
        "from statsmodels.tsa.arima_model import ARIMA\n",
        "from sklearn.metrics import mean_squared_error, mean_absolute_percentage_error, mean_absolute_error"
      ],
      "metadata": {
        "id": "WinZ0emSGvCG"
      },
      "execution_count": null,
      "outputs": []
    },
    {
      "cell_type": "code",
      "source": [
        "df_portaria = pd.read_excel('Dados_GCD_Gestao_Condominio_Portaria.xlsx')"
      ],
      "metadata": {
        "id": "cMXJkHUuDAbc"
      },
      "execution_count": null,
      "outputs": []
    },
    {
      "cell_type": "code",
      "source": [
        "df_portaria.info()"
      ],
      "metadata": {
        "colab": {
          "base_uri": "https://localhost:8080/"
        },
        "id": "tGs82G_gDOdy",
        "outputId": "9169a0cb-b201-4559-9831-4a9e5787610a"
      },
      "execution_count": null,
      "outputs": [
        {
          "output_type": "stream",
          "name": "stdout",
          "text": [
            "<class 'pandas.core.frame.DataFrame'>\n",
            "RangeIndex: 26142 entries, 0 to 26141\n",
            "Data columns (total 8 columns):\n",
            " #   Column             Non-Null Count  Dtype         \n",
            "---  ------             --------------  -----         \n",
            " 0   nr_movimento       26142 non-null  int64         \n",
            " 1   nr_condominio      26142 non-null  int64         \n",
            " 2   Nome_condominio    26142 non-null  object        \n",
            " 3   nr_lote            26142 non-null  int64         \n",
            " 4   Tipo Veículo       26142 non-null  object        \n",
            " 5   Data_Movimentacao  26142 non-null  datetime64[ns]\n",
            " 6   Hora               26142 non-null  int64         \n",
            " 7   entrada_saida      26142 non-null  object        \n",
            "dtypes: datetime64[ns](1), int64(4), object(3)\n",
            "memory usage: 1.6+ MB\n"
          ]
        }
      ]
    },
    {
      "cell_type": "markdown",
      "source": [
        "### Verificando porcentagem de dados missing"
      ],
      "metadata": {
        "id": "qQZWjhZ6JaL_"
      }
    },
    {
      "cell_type": "code",
      "source": [
        "for col in df_portaria.columns:\n",
        "    pct_missing = np.mean(df_portaria[col].isnull())\n",
        "    print('{} - {}%'.format(col, round(pct_missing*100)))"
      ],
      "metadata": {
        "colab": {
          "base_uri": "https://localhost:8080/"
        },
        "id": "tQ1V0WhdDRYL",
        "outputId": "f8b29ac4-7fb5-457b-9680-9bdd827599fa"
      },
      "execution_count": null,
      "outputs": [
        {
          "output_type": "stream",
          "name": "stdout",
          "text": [
            "nr_movimento - 0%\n",
            "nr_condominio - 0%\n",
            "Nome_condominio - 0%\n",
            "nr_lote - 0%\n",
            "Tipo Veículo - 0%\n",
            "Data_Movimentacao - 0%\n",
            "Hora - 0%\n",
            "entrada_saida - 0%\n"
          ]
        }
      ]
    },
    {
      "cell_type": "code",
      "source": [
        "df_portaria.isnull().sum()"
      ],
      "metadata": {
        "colab": {
          "base_uri": "https://localhost:8080/"
        },
        "id": "PervnqJ_jqmP",
        "outputId": "5c323f71-7ca7-4f4b-cd64-7fa20d05275c"
      },
      "execution_count": null,
      "outputs": [
        {
          "output_type": "execute_result",
          "data": {
            "text/plain": [
              "nr_movimento         0\n",
              "nr_condominio        0\n",
              "Nome_condominio      0\n",
              "nr_lote              0\n",
              "Tipo Veículo         0\n",
              "Data_Movimentacao    0\n",
              "Hora                 0\n",
              "entrada_saida        0\n",
              "dtype: int64"
            ]
          },
          "metadata": {},
          "execution_count": 32
        }
      ]
    },
    {
      "cell_type": "code",
      "source": [
        "for col in df_portaria.columns:\n",
        "    print('{} : {}'.format(col,df_portaria[col].unique()))"
      ],
      "metadata": {
        "colab": {
          "base_uri": "https://localhost:8080/"
        },
        "id": "YxUQb1O_j2MB",
        "outputId": "2b0d2017-238e-491b-e382-93d79a6f0509"
      },
      "execution_count": null,
      "outputs": [
        {
          "output_type": "stream",
          "name": "stdout",
          "text": [
            "nr_movimento : [19876212 19876213 19876214 ...  6681026  6681027  6681028]\n",
            "nr_condominio : [12 17]\n",
            "Nome_condominio : ['Melissa Garden' 'Flowers Queen']\n",
            "nr_lote : [209 108 114 153  30 197  43 167 174 212 139 160  88 113   8 148 136 222\n",
            " 142  40 215  81  65   6  98 166 159  34 130 162  12  33 107  32  27 207\n",
            " 203 165  94  64  71 195 132  20  83  45  55  74 127   2 183 196 179 134\n",
            "  56 154 147 156   1 152  75 199  90 204  66   4  70 129  73 125  26  17\n",
            "  82  28 124  29 201 180  53  77 175  46 173 170  76 163 126  59  61 193\n",
            " 103  44 182  91  50  52 141  15 138  63 206  42 191 145  22 205  68  41\n",
            " 111  47 172 194  37 133  99  67  14  25 128 208  93 135 176 189  62 116\n",
            " 106  36 188 202   9  23  35   5 109  57  89  11  84  31 192   7 123  96\n",
            " 157 217 101 117  18  95 177 104 210  86  13  39 187 115 151 198  49 102\n",
            " 143  80 200 131 110 213  69  60 118  48  58  87 150 214 216   3 186 211\n",
            " 161 144 137 218 155 181 164  92 119 221 185 158  16  38 149  21  97 171\n",
            " 178 219  10 122 146  19  78 168 220  54 190 112 169 120  24 121  51  85\n",
            " 100 105  79 184 140  72]\n",
            "Tipo Veículo : ['Automóvel' 'Motocicleta' 'Caminhão' 'v']\n",
            "Data_Movimentacao : ['2021-10-12T00:00:00.000000000' '2022-01-25T00:00:00.000000000'\n",
            " '2021-11-03T00:00:00.000000000' '2022-04-12T00:00:00.000000000'\n",
            " '2021-11-21T00:00:00.000000000' '2021-11-11T00:00:00.000000000'\n",
            " '2022-03-16T00:00:00.000000000' '2021-12-23T00:00:00.000000000'\n",
            " '2021-12-17T00:00:00.000000000' '2021-11-09T00:00:00.000000000'\n",
            " '2022-02-23T00:00:00.000000000' '2021-11-01T00:00:00.000000000'\n",
            " '2021-10-27T00:00:00.000000000' '2022-02-22T00:00:00.000000000'\n",
            " '2022-02-10T00:00:00.000000000' '2021-10-10T00:00:00.000000000'\n",
            " '2021-10-18T00:00:00.000000000' '2022-03-05T00:00:00.000000000'\n",
            " '2021-12-01T00:00:00.000000000' '2021-12-29T00:00:00.000000000'\n",
            " '2021-10-08T00:00:00.000000000' '2022-02-03T00:00:00.000000000'\n",
            " '2022-04-27T00:00:00.000000000' '2022-04-25T00:00:00.000000000'\n",
            " '2021-11-05T00:00:00.000000000' '2021-11-30T00:00:00.000000000'\n",
            " '2022-04-16T00:00:00.000000000' '2022-03-29T00:00:00.000000000'\n",
            " '2021-11-18T00:00:00.000000000' '2022-01-13T00:00:00.000000000'\n",
            " '2022-01-05T00:00:00.000000000' '2022-01-26T00:00:00.000000000'\n",
            " '2022-04-15T00:00:00.000000000' '2022-03-26T00:00:00.000000000'\n",
            " '2022-04-21T00:00:00.000000000' '2022-03-08T00:00:00.000000000'\n",
            " '2022-02-09T00:00:00.000000000' '2021-10-13T00:00:00.000000000'\n",
            " '2021-10-05T00:00:00.000000000' '2021-11-07T00:00:00.000000000'\n",
            " '2021-10-21T00:00:00.000000000' '2021-11-12T00:00:00.000000000'\n",
            " '2021-12-27T00:00:00.000000000' '2022-02-21T00:00:00.000000000'\n",
            " '2021-12-25T00:00:00.000000000' '2022-03-13T00:00:00.000000000'\n",
            " '2021-12-20T00:00:00.000000000' '2022-01-27T00:00:00.000000000'\n",
            " '2021-10-16T00:00:00.000000000' '2022-03-15T00:00:00.000000000'\n",
            " '2022-04-04T00:00:00.000000000' '2022-03-22T00:00:00.000000000'\n",
            " '2021-12-31T00:00:00.000000000' '2022-04-18T00:00:00.000000000'\n",
            " '2022-02-15T00:00:00.000000000' '2021-12-04T00:00:00.000000000'\n",
            " '2022-02-04T00:00:00.000000000' '2021-10-02T00:00:00.000000000'\n",
            " '2021-11-20T00:00:00.000000000' '2022-01-18T00:00:00.000000000'\n",
            " '2022-03-19T00:00:00.000000000' '2022-01-01T00:00:00.000000000'\n",
            " '2022-03-06T00:00:00.000000000' '2022-03-24T00:00:00.000000000'\n",
            " '2021-11-17T00:00:00.000000000' '2022-03-01T00:00:00.000000000'\n",
            " '2022-02-02T00:00:00.000000000' '2021-11-14T00:00:00.000000000'\n",
            " '2022-01-02T00:00:00.000000000' '2022-04-11T00:00:00.000000000'\n",
            " '2022-03-31T00:00:00.000000000' '2022-02-13T00:00:00.000000000'\n",
            " '2022-03-04T00:00:00.000000000' '2021-12-19T00:00:00.000000000'\n",
            " '2022-01-08T00:00:00.000000000' '2021-10-20T00:00:00.000000000'\n",
            " '2021-10-29T00:00:00.000000000' '2021-10-19T00:00:00.000000000'\n",
            " '2022-04-06T00:00:00.000000000' '2022-04-03T00:00:00.000000000'\n",
            " '2022-04-10T00:00:00.000000000' '2022-02-28T00:00:00.000000000'\n",
            " '2022-04-08T00:00:00.000000000' '2022-04-17T00:00:00.000000000'\n",
            " '2022-04-23T00:00:00.000000000' '2021-11-06T00:00:00.000000000'\n",
            " '2022-03-27T00:00:00.000000000' '2022-02-26T00:00:00.000000000'\n",
            " '2022-03-23T00:00:00.000000000' '2022-01-07T00:00:00.000000000'\n",
            " '2021-12-22T00:00:00.000000000' '2022-03-30T00:00:00.000000000'\n",
            " '2022-04-26T00:00:00.000000000' '2022-03-03T00:00:00.000000000'\n",
            " '2021-10-24T00:00:00.000000000' '2021-10-15T00:00:00.000000000'\n",
            " '2021-11-22T00:00:00.000000000' '2021-11-04T00:00:00.000000000'\n",
            " '2022-03-09T00:00:00.000000000' '2021-10-22T00:00:00.000000000'\n",
            " '2021-10-31T00:00:00.000000000' '2022-03-10T00:00:00.000000000'\n",
            " '2022-01-11T00:00:00.000000000' '2021-11-23T00:00:00.000000000'\n",
            " '2021-10-04T00:00:00.000000000' '2022-03-11T00:00:00.000000000'\n",
            " '2021-10-23T00:00:00.000000000' '2021-11-27T00:00:00.000000000'\n",
            " '2022-02-08T00:00:00.000000000' '2021-12-24T00:00:00.000000000'\n",
            " '2022-02-14T00:00:00.000000000' '2021-12-18T00:00:00.000000000'\n",
            " '2022-01-03T00:00:00.000000000' '2022-01-14T00:00:00.000000000'\n",
            " '2022-04-07T00:00:00.000000000' '2022-02-25T00:00:00.000000000'\n",
            " '2021-12-30T00:00:00.000000000' '2022-02-27T00:00:00.000000000'\n",
            " '2021-10-06T00:00:00.000000000' '2021-12-12T00:00:00.000000000'\n",
            " '2022-01-24T00:00:00.000000000' '2021-11-28T00:00:00.000000000'\n",
            " '2022-02-11T00:00:00.000000000' '2022-01-20T00:00:00.000000000'\n",
            " '2022-02-20T00:00:00.000000000' '2021-12-10T00:00:00.000000000'\n",
            " '2021-10-14T00:00:00.000000000' '2022-02-12T00:00:00.000000000'\n",
            " '2022-04-20T00:00:00.000000000' '2022-01-04T00:00:00.000000000'\n",
            " '2021-12-15T00:00:00.000000000' '2021-12-03T00:00:00.000000000'\n",
            " '2021-12-14T00:00:00.000000000' '2022-01-10T00:00:00.000000000'\n",
            " '2021-10-09T00:00:00.000000000' '2021-11-13T00:00:00.000000000'\n",
            " '2021-10-17T00:00:00.000000000' '2022-03-12T00:00:00.000000000'\n",
            " '2021-12-21T00:00:00.000000000' '2021-12-05T00:00:00.000000000'\n",
            " '2022-01-19T00:00:00.000000000' '2021-11-16T00:00:00.000000000'\n",
            " '2021-10-11T00:00:00.000000000' '2021-11-25T00:00:00.000000000'\n",
            " '2022-02-05T00:00:00.000000000' '2021-11-24T00:00:00.000000000'\n",
            " '2021-12-02T00:00:00.000000000' '2021-12-11T00:00:00.000000000'\n",
            " '2021-11-19T00:00:00.000000000' '2022-01-15T00:00:00.000000000'\n",
            " '2022-01-21T00:00:00.000000000' '2021-10-26T00:00:00.000000000'\n",
            " '2022-02-18T00:00:00.000000000' '2022-03-21T00:00:00.000000000'\n",
            " '2022-01-12T00:00:00.000000000' '2022-04-28T00:00:00.000000000'\n",
            " '2021-12-08T00:00:00.000000000' '2022-04-29T00:00:00.000000000'\n",
            " '2022-03-18T00:00:00.000000000' '2021-12-16T00:00:00.000000000'\n",
            " '2022-03-20T00:00:00.000000000' '2022-04-22T00:00:00.000000000'\n",
            " '2022-03-17T00:00:00.000000000' '2022-04-24T00:00:00.000000000'\n",
            " '2022-04-01T00:00:00.000000000' '2022-01-22T00:00:00.000000000'\n",
            " '2022-02-07T00:00:00.000000000' '2022-03-02T00:00:00.000000000'\n",
            " '2021-10-07T00:00:00.000000000' '2021-10-30T00:00:00.000000000'\n",
            " '2021-10-28T00:00:00.000000000' '2022-01-06T00:00:00.000000000'\n",
            " '2022-03-25T00:00:00.000000000' '2022-01-29T00:00:00.000000000'\n",
            " '2022-04-13T00:00:00.000000000' '2021-11-02T00:00:00.000000000'\n",
            " '2021-10-01T00:00:00.000000000' '2022-04-30T00:00:00.000000000'\n",
            " '2021-12-26T00:00:00.000000000' '2021-11-08T00:00:00.000000000'\n",
            " '2022-02-17T00:00:00.000000000' '2021-10-03T00:00:00.000000000'\n",
            " '2022-02-06T00:00:00.000000000' '2022-02-24T00:00:00.000000000'\n",
            " '2021-11-10T00:00:00.000000000' '2022-04-02T00:00:00.000000000'\n",
            " '2022-01-31T00:00:00.000000000' '2022-04-14T00:00:00.000000000'\n",
            " '2022-01-09T00:00:00.000000000' '2021-10-25T00:00:00.000000000'\n",
            " '2021-11-15T00:00:00.000000000' '2021-12-13T00:00:00.000000000'\n",
            " '2021-12-09T00:00:00.000000000' '2022-01-23T00:00:00.000000000'\n",
            " '2022-01-30T00:00:00.000000000' '2021-12-06T00:00:00.000000000'\n",
            " '2022-04-19T00:00:00.000000000' '2022-01-28T00:00:00.000000000'\n",
            " '2022-03-07T00:00:00.000000000' '2022-03-14T00:00:00.000000000'\n",
            " '2022-03-28T00:00:00.000000000' '2021-11-29T00:00:00.000000000'\n",
            " '2021-12-07T00:00:00.000000000' '2022-05-01T00:00:00.000000000'\n",
            " '2022-04-05T00:00:00.000000000' '2022-04-09T00:00:00.000000000'\n",
            " '2022-01-17T00:00:00.000000000' '2022-02-19T00:00:00.000000000'\n",
            " '2022-01-16T00:00:00.000000000' '2022-02-01T00:00:00.000000000'\n",
            " '2022-02-16T00:00:00.000000000' '2021-11-26T00:00:00.000000000'\n",
            " '2021-12-28T00:00:00.000000000']\n",
            "Hora : [11  8 12  9 10  7 21 18 19 20 17]\n",
            "entrada_saida : ['Saída' 'Entrada']\n"
          ]
        }
      ]
    },
    {
      "cell_type": "markdown",
      "source": [
        "Tipos de dados"
      ],
      "metadata": {
        "id": "-34qIrOKJeZA"
      }
    },
    {
      "cell_type": "code",
      "source": [
        "df_portaria.dtypes"
      ],
      "metadata": {
        "colab": {
          "base_uri": "https://localhost:8080/"
        },
        "id": "68tpoZaNDiWn",
        "outputId": "98c2fe27-021c-430c-cbcb-336b69d7b2f7"
      },
      "execution_count": null,
      "outputs": [
        {
          "output_type": "execute_result",
          "data": {
            "text/plain": [
              "nr_movimento                  int64\n",
              "nr_condominio                 int64\n",
              "Nome_condominio              object\n",
              "nr_lote                       int64\n",
              "Tipo Veículo                 object\n",
              "Data_Movimentacao    datetime64[ns]\n",
              "Hora                          int64\n",
              "entrada_saida                object\n",
              "dtype: object"
            ]
          },
          "metadata": {},
          "execution_count": 34
        }
      ]
    },
    {
      "cell_type": "code",
      "source": [
        "df_portaria.drop_duplicates()"
      ],
      "metadata": {
        "colab": {
          "base_uri": "https://localhost:8080/",
          "height": 424
        },
        "id": "V7zXCBCODxx4",
        "outputId": "ae2ae599-48aa-41d7-9c3b-8ec9617f827d"
      },
      "execution_count": null,
      "outputs": [
        {
          "output_type": "execute_result",
          "data": {
            "text/plain": [
              "       nr_movimento  nr_condominio Nome_condominio  nr_lote Tipo Veículo  \\\n",
              "0          19876212             12  Melissa Garden      209    Automóvel   \n",
              "1          19876213             12  Melissa Garden      108    Automóvel   \n",
              "2          19876214             12  Melissa Garden      114    Automóvel   \n",
              "3          19876215             12  Melissa Garden      153    Automóvel   \n",
              "4          19876216             12  Melissa Garden       30    Automóvel   \n",
              "...             ...            ...             ...      ...          ...   \n",
              "26137       6681024             17   Flowers Queen       18    Automóvel   \n",
              "26138       6681025             17   Flowers Queen       28    Automóvel   \n",
              "26139       6681026             17   Flowers Queen        7    Automóvel   \n",
              "26140       6681027             17   Flowers Queen       30    Automóvel   \n",
              "26141       6681028             17   Flowers Queen       20    Automóvel   \n",
              "\n",
              "      Data_Movimentacao  Hora entrada_saida  \n",
              "0            2021-10-12    11         Saída  \n",
              "1            2022-01-25     8         Saída  \n",
              "2            2021-11-03    12         Saída  \n",
              "3            2022-04-12     9         Saída  \n",
              "4            2021-11-21    11         Saída  \n",
              "...                 ...   ...           ...  \n",
              "26137        2021-11-24    17       Entrada  \n",
              "26138        2022-04-11    21       Entrada  \n",
              "26139        2022-03-31    21       Entrada  \n",
              "26140        2022-03-03    20       Entrada  \n",
              "26141        2021-11-21    21       Entrada  \n",
              "\n",
              "[26142 rows x 8 columns]"
            ],
            "text/html": [
              "\n",
              "  <div id=\"df-b2539c43-42f1-488b-be0a-e43c2e151b4b\">\n",
              "    <div class=\"colab-df-container\">\n",
              "      <div>\n",
              "<style scoped>\n",
              "    .dataframe tbody tr th:only-of-type {\n",
              "        vertical-align: middle;\n",
              "    }\n",
              "\n",
              "    .dataframe tbody tr th {\n",
              "        vertical-align: top;\n",
              "    }\n",
              "\n",
              "    .dataframe thead th {\n",
              "        text-align: right;\n",
              "    }\n",
              "</style>\n",
              "<table border=\"1\" class=\"dataframe\">\n",
              "  <thead>\n",
              "    <tr style=\"text-align: right;\">\n",
              "      <th></th>\n",
              "      <th>nr_movimento</th>\n",
              "      <th>nr_condominio</th>\n",
              "      <th>Nome_condominio</th>\n",
              "      <th>nr_lote</th>\n",
              "      <th>Tipo Veículo</th>\n",
              "      <th>Data_Movimentacao</th>\n",
              "      <th>Hora</th>\n",
              "      <th>entrada_saida</th>\n",
              "    </tr>\n",
              "  </thead>\n",
              "  <tbody>\n",
              "    <tr>\n",
              "      <th>0</th>\n",
              "      <td>19876212</td>\n",
              "      <td>12</td>\n",
              "      <td>Melissa Garden</td>\n",
              "      <td>209</td>\n",
              "      <td>Automóvel</td>\n",
              "      <td>2021-10-12</td>\n",
              "      <td>11</td>\n",
              "      <td>Saída</td>\n",
              "    </tr>\n",
              "    <tr>\n",
              "      <th>1</th>\n",
              "      <td>19876213</td>\n",
              "      <td>12</td>\n",
              "      <td>Melissa Garden</td>\n",
              "      <td>108</td>\n",
              "      <td>Automóvel</td>\n",
              "      <td>2022-01-25</td>\n",
              "      <td>8</td>\n",
              "      <td>Saída</td>\n",
              "    </tr>\n",
              "    <tr>\n",
              "      <th>2</th>\n",
              "      <td>19876214</td>\n",
              "      <td>12</td>\n",
              "      <td>Melissa Garden</td>\n",
              "      <td>114</td>\n",
              "      <td>Automóvel</td>\n",
              "      <td>2021-11-03</td>\n",
              "      <td>12</td>\n",
              "      <td>Saída</td>\n",
              "    </tr>\n",
              "    <tr>\n",
              "      <th>3</th>\n",
              "      <td>19876215</td>\n",
              "      <td>12</td>\n",
              "      <td>Melissa Garden</td>\n",
              "      <td>153</td>\n",
              "      <td>Automóvel</td>\n",
              "      <td>2022-04-12</td>\n",
              "      <td>9</td>\n",
              "      <td>Saída</td>\n",
              "    </tr>\n",
              "    <tr>\n",
              "      <th>4</th>\n",
              "      <td>19876216</td>\n",
              "      <td>12</td>\n",
              "      <td>Melissa Garden</td>\n",
              "      <td>30</td>\n",
              "      <td>Automóvel</td>\n",
              "      <td>2021-11-21</td>\n",
              "      <td>11</td>\n",
              "      <td>Saída</td>\n",
              "    </tr>\n",
              "    <tr>\n",
              "      <th>...</th>\n",
              "      <td>...</td>\n",
              "      <td>...</td>\n",
              "      <td>...</td>\n",
              "      <td>...</td>\n",
              "      <td>...</td>\n",
              "      <td>...</td>\n",
              "      <td>...</td>\n",
              "      <td>...</td>\n",
              "    </tr>\n",
              "    <tr>\n",
              "      <th>26137</th>\n",
              "      <td>6681024</td>\n",
              "      <td>17</td>\n",
              "      <td>Flowers Queen</td>\n",
              "      <td>18</td>\n",
              "      <td>Automóvel</td>\n",
              "      <td>2021-11-24</td>\n",
              "      <td>17</td>\n",
              "      <td>Entrada</td>\n",
              "    </tr>\n",
              "    <tr>\n",
              "      <th>26138</th>\n",
              "      <td>6681025</td>\n",
              "      <td>17</td>\n",
              "      <td>Flowers Queen</td>\n",
              "      <td>28</td>\n",
              "      <td>Automóvel</td>\n",
              "      <td>2022-04-11</td>\n",
              "      <td>21</td>\n",
              "      <td>Entrada</td>\n",
              "    </tr>\n",
              "    <tr>\n",
              "      <th>26139</th>\n",
              "      <td>6681026</td>\n",
              "      <td>17</td>\n",
              "      <td>Flowers Queen</td>\n",
              "      <td>7</td>\n",
              "      <td>Automóvel</td>\n",
              "      <td>2022-03-31</td>\n",
              "      <td>21</td>\n",
              "      <td>Entrada</td>\n",
              "    </tr>\n",
              "    <tr>\n",
              "      <th>26140</th>\n",
              "      <td>6681027</td>\n",
              "      <td>17</td>\n",
              "      <td>Flowers Queen</td>\n",
              "      <td>30</td>\n",
              "      <td>Automóvel</td>\n",
              "      <td>2022-03-03</td>\n",
              "      <td>20</td>\n",
              "      <td>Entrada</td>\n",
              "    </tr>\n",
              "    <tr>\n",
              "      <th>26141</th>\n",
              "      <td>6681028</td>\n",
              "      <td>17</td>\n",
              "      <td>Flowers Queen</td>\n",
              "      <td>20</td>\n",
              "      <td>Automóvel</td>\n",
              "      <td>2021-11-21</td>\n",
              "      <td>21</td>\n",
              "      <td>Entrada</td>\n",
              "    </tr>\n",
              "  </tbody>\n",
              "</table>\n",
              "<p>26142 rows × 8 columns</p>\n",
              "</div>\n",
              "      <button class=\"colab-df-convert\" onclick=\"convertToInteractive('df-b2539c43-42f1-488b-be0a-e43c2e151b4b')\"\n",
              "              title=\"Convert this dataframe to an interactive table.\"\n",
              "              style=\"display:none;\">\n",
              "        \n",
              "  <svg xmlns=\"http://www.w3.org/2000/svg\" height=\"24px\"viewBox=\"0 0 24 24\"\n",
              "       width=\"24px\">\n",
              "    <path d=\"M0 0h24v24H0V0z\" fill=\"none\"/>\n",
              "    <path d=\"M18.56 5.44l.94 2.06.94-2.06 2.06-.94-2.06-.94-.94-2.06-.94 2.06-2.06.94zm-11 1L8.5 8.5l.94-2.06 2.06-.94-2.06-.94L8.5 2.5l-.94 2.06-2.06.94zm10 10l.94 2.06.94-2.06 2.06-.94-2.06-.94-.94-2.06-.94 2.06-2.06.94z\"/><path d=\"M17.41 7.96l-1.37-1.37c-.4-.4-.92-.59-1.43-.59-.52 0-1.04.2-1.43.59L10.3 9.45l-7.72 7.72c-.78.78-.78 2.05 0 2.83L4 21.41c.39.39.9.59 1.41.59.51 0 1.02-.2 1.41-.59l7.78-7.78 2.81-2.81c.8-.78.8-2.07 0-2.86zM5.41 20L4 18.59l7.72-7.72 1.47 1.35L5.41 20z\"/>\n",
              "  </svg>\n",
              "      </button>\n",
              "      \n",
              "  <style>\n",
              "    .colab-df-container {\n",
              "      display:flex;\n",
              "      flex-wrap:wrap;\n",
              "      gap: 12px;\n",
              "    }\n",
              "\n",
              "    .colab-df-convert {\n",
              "      background-color: #E8F0FE;\n",
              "      border: none;\n",
              "      border-radius: 50%;\n",
              "      cursor: pointer;\n",
              "      display: none;\n",
              "      fill: #1967D2;\n",
              "      height: 32px;\n",
              "      padding: 0 0 0 0;\n",
              "      width: 32px;\n",
              "    }\n",
              "\n",
              "    .colab-df-convert:hover {\n",
              "      background-color: #E2EBFA;\n",
              "      box-shadow: 0px 1px 2px rgba(60, 64, 67, 0.3), 0px 1px 3px 1px rgba(60, 64, 67, 0.15);\n",
              "      fill: #174EA6;\n",
              "    }\n",
              "\n",
              "    [theme=dark] .colab-df-convert {\n",
              "      background-color: #3B4455;\n",
              "      fill: #D2E3FC;\n",
              "    }\n",
              "\n",
              "    [theme=dark] .colab-df-convert:hover {\n",
              "      background-color: #434B5C;\n",
              "      box-shadow: 0px 1px 3px 1px rgba(0, 0, 0, 0.15);\n",
              "      filter: drop-shadow(0px 1px 2px rgba(0, 0, 0, 0.3));\n",
              "      fill: #FFFFFF;\n",
              "    }\n",
              "  </style>\n",
              "\n",
              "      <script>\n",
              "        const buttonEl =\n",
              "          document.querySelector('#df-b2539c43-42f1-488b-be0a-e43c2e151b4b button.colab-df-convert');\n",
              "        buttonEl.style.display =\n",
              "          google.colab.kernel.accessAllowed ? 'block' : 'none';\n",
              "\n",
              "        async function convertToInteractive(key) {\n",
              "          const element = document.querySelector('#df-b2539c43-42f1-488b-be0a-e43c2e151b4b');\n",
              "          const dataTable =\n",
              "            await google.colab.kernel.invokeFunction('convertToInteractive',\n",
              "                                                     [key], {});\n",
              "          if (!dataTable) return;\n",
              "\n",
              "          const docLinkHtml = 'Like what you see? Visit the ' +\n",
              "            '<a target=\"_blank\" href=https://colab.research.google.com/notebooks/data_table.ipynb>data table notebook</a>'\n",
              "            + ' to learn more about interactive tables.';\n",
              "          element.innerHTML = '';\n",
              "          dataTable['output_type'] = 'display_data';\n",
              "          await google.colab.output.renderOutput(dataTable, element);\n",
              "          const docLink = document.createElement('div');\n",
              "          docLink.innerHTML = docLinkHtml;\n",
              "          element.appendChild(docLink);\n",
              "        }\n",
              "      </script>\n",
              "    </div>\n",
              "  </div>\n",
              "  "
            ]
          },
          "metadata": {},
          "execution_count": 35
        }
      ]
    },
    {
      "cell_type": "markdown",
      "source": [
        "### Adicionando coluna Número da semana, 0 sendo segunda feira e 6 sendo domingo"
      ],
      "metadata": {
        "id": "7mINX1TCseF2"
      }
    },
    {
      "cell_type": "code",
      "source": [
        "df_portaria['dia_semana'] = df_portaria['Data_Movimentacao'].dt.dayofweek"
      ],
      "metadata": {
        "id": "PAp421ZSsQcd"
      },
      "execution_count": null,
      "outputs": []
    },
    {
      "cell_type": "code",
      "source": [
        "df_portaria"
      ],
      "metadata": {
        "colab": {
          "base_uri": "https://localhost:8080/",
          "height": 424
        },
        "id": "MP_MKHijsV3W",
        "outputId": "51d02039-2df8-4b20-a272-05e4c4698132"
      },
      "execution_count": null,
      "outputs": [
        {
          "output_type": "execute_result",
          "data": {
            "text/plain": [
              "       nr_movimento  nr_condominio Nome_condominio  nr_lote Tipo Veículo  \\\n",
              "0          19876212             12  Melissa Garden      209    Automóvel   \n",
              "1          19876213             12  Melissa Garden      108    Automóvel   \n",
              "2          19876214             12  Melissa Garden      114    Automóvel   \n",
              "3          19876215             12  Melissa Garden      153    Automóvel   \n",
              "4          19876216             12  Melissa Garden       30    Automóvel   \n",
              "...             ...            ...             ...      ...          ...   \n",
              "26137       6681024             17   Flowers Queen       18    Automóvel   \n",
              "26138       6681025             17   Flowers Queen       28    Automóvel   \n",
              "26139       6681026             17   Flowers Queen        7    Automóvel   \n",
              "26140       6681027             17   Flowers Queen       30    Automóvel   \n",
              "26141       6681028             17   Flowers Queen       20    Automóvel   \n",
              "\n",
              "      Data_Movimentacao  Hora entrada_saida  dia_semana  \n",
              "0            2021-10-12    11         Saída           1  \n",
              "1            2022-01-25     8         Saída           1  \n",
              "2            2021-11-03    12         Saída           2  \n",
              "3            2022-04-12     9         Saída           1  \n",
              "4            2021-11-21    11         Saída           6  \n",
              "...                 ...   ...           ...         ...  \n",
              "26137        2021-11-24    17       Entrada           2  \n",
              "26138        2022-04-11    21       Entrada           0  \n",
              "26139        2022-03-31    21       Entrada           3  \n",
              "26140        2022-03-03    20       Entrada           3  \n",
              "26141        2021-11-21    21       Entrada           6  \n",
              "\n",
              "[26142 rows x 9 columns]"
            ],
            "text/html": [
              "\n",
              "  <div id=\"df-d9747045-6666-4040-b0aa-e5364bfe63ff\">\n",
              "    <div class=\"colab-df-container\">\n",
              "      <div>\n",
              "<style scoped>\n",
              "    .dataframe tbody tr th:only-of-type {\n",
              "        vertical-align: middle;\n",
              "    }\n",
              "\n",
              "    .dataframe tbody tr th {\n",
              "        vertical-align: top;\n",
              "    }\n",
              "\n",
              "    .dataframe thead th {\n",
              "        text-align: right;\n",
              "    }\n",
              "</style>\n",
              "<table border=\"1\" class=\"dataframe\">\n",
              "  <thead>\n",
              "    <tr style=\"text-align: right;\">\n",
              "      <th></th>\n",
              "      <th>nr_movimento</th>\n",
              "      <th>nr_condominio</th>\n",
              "      <th>Nome_condominio</th>\n",
              "      <th>nr_lote</th>\n",
              "      <th>Tipo Veículo</th>\n",
              "      <th>Data_Movimentacao</th>\n",
              "      <th>Hora</th>\n",
              "      <th>entrada_saida</th>\n",
              "      <th>dia_semana</th>\n",
              "    </tr>\n",
              "  </thead>\n",
              "  <tbody>\n",
              "    <tr>\n",
              "      <th>0</th>\n",
              "      <td>19876212</td>\n",
              "      <td>12</td>\n",
              "      <td>Melissa Garden</td>\n",
              "      <td>209</td>\n",
              "      <td>Automóvel</td>\n",
              "      <td>2021-10-12</td>\n",
              "      <td>11</td>\n",
              "      <td>Saída</td>\n",
              "      <td>1</td>\n",
              "    </tr>\n",
              "    <tr>\n",
              "      <th>1</th>\n",
              "      <td>19876213</td>\n",
              "      <td>12</td>\n",
              "      <td>Melissa Garden</td>\n",
              "      <td>108</td>\n",
              "      <td>Automóvel</td>\n",
              "      <td>2022-01-25</td>\n",
              "      <td>8</td>\n",
              "      <td>Saída</td>\n",
              "      <td>1</td>\n",
              "    </tr>\n",
              "    <tr>\n",
              "      <th>2</th>\n",
              "      <td>19876214</td>\n",
              "      <td>12</td>\n",
              "      <td>Melissa Garden</td>\n",
              "      <td>114</td>\n",
              "      <td>Automóvel</td>\n",
              "      <td>2021-11-03</td>\n",
              "      <td>12</td>\n",
              "      <td>Saída</td>\n",
              "      <td>2</td>\n",
              "    </tr>\n",
              "    <tr>\n",
              "      <th>3</th>\n",
              "      <td>19876215</td>\n",
              "      <td>12</td>\n",
              "      <td>Melissa Garden</td>\n",
              "      <td>153</td>\n",
              "      <td>Automóvel</td>\n",
              "      <td>2022-04-12</td>\n",
              "      <td>9</td>\n",
              "      <td>Saída</td>\n",
              "      <td>1</td>\n",
              "    </tr>\n",
              "    <tr>\n",
              "      <th>4</th>\n",
              "      <td>19876216</td>\n",
              "      <td>12</td>\n",
              "      <td>Melissa Garden</td>\n",
              "      <td>30</td>\n",
              "      <td>Automóvel</td>\n",
              "      <td>2021-11-21</td>\n",
              "      <td>11</td>\n",
              "      <td>Saída</td>\n",
              "      <td>6</td>\n",
              "    </tr>\n",
              "    <tr>\n",
              "      <th>...</th>\n",
              "      <td>...</td>\n",
              "      <td>...</td>\n",
              "      <td>...</td>\n",
              "      <td>...</td>\n",
              "      <td>...</td>\n",
              "      <td>...</td>\n",
              "      <td>...</td>\n",
              "      <td>...</td>\n",
              "      <td>...</td>\n",
              "    </tr>\n",
              "    <tr>\n",
              "      <th>26137</th>\n",
              "      <td>6681024</td>\n",
              "      <td>17</td>\n",
              "      <td>Flowers Queen</td>\n",
              "      <td>18</td>\n",
              "      <td>Automóvel</td>\n",
              "      <td>2021-11-24</td>\n",
              "      <td>17</td>\n",
              "      <td>Entrada</td>\n",
              "      <td>2</td>\n",
              "    </tr>\n",
              "    <tr>\n",
              "      <th>26138</th>\n",
              "      <td>6681025</td>\n",
              "      <td>17</td>\n",
              "      <td>Flowers Queen</td>\n",
              "      <td>28</td>\n",
              "      <td>Automóvel</td>\n",
              "      <td>2022-04-11</td>\n",
              "      <td>21</td>\n",
              "      <td>Entrada</td>\n",
              "      <td>0</td>\n",
              "    </tr>\n",
              "    <tr>\n",
              "      <th>26139</th>\n",
              "      <td>6681026</td>\n",
              "      <td>17</td>\n",
              "      <td>Flowers Queen</td>\n",
              "      <td>7</td>\n",
              "      <td>Automóvel</td>\n",
              "      <td>2022-03-31</td>\n",
              "      <td>21</td>\n",
              "      <td>Entrada</td>\n",
              "      <td>3</td>\n",
              "    </tr>\n",
              "    <tr>\n",
              "      <th>26140</th>\n",
              "      <td>6681027</td>\n",
              "      <td>17</td>\n",
              "      <td>Flowers Queen</td>\n",
              "      <td>30</td>\n",
              "      <td>Automóvel</td>\n",
              "      <td>2022-03-03</td>\n",
              "      <td>20</td>\n",
              "      <td>Entrada</td>\n",
              "      <td>3</td>\n",
              "    </tr>\n",
              "    <tr>\n",
              "      <th>26141</th>\n",
              "      <td>6681028</td>\n",
              "      <td>17</td>\n",
              "      <td>Flowers Queen</td>\n",
              "      <td>20</td>\n",
              "      <td>Automóvel</td>\n",
              "      <td>2021-11-21</td>\n",
              "      <td>21</td>\n",
              "      <td>Entrada</td>\n",
              "      <td>6</td>\n",
              "    </tr>\n",
              "  </tbody>\n",
              "</table>\n",
              "<p>26142 rows × 9 columns</p>\n",
              "</div>\n",
              "      <button class=\"colab-df-convert\" onclick=\"convertToInteractive('df-d9747045-6666-4040-b0aa-e5364bfe63ff')\"\n",
              "              title=\"Convert this dataframe to an interactive table.\"\n",
              "              style=\"display:none;\">\n",
              "        \n",
              "  <svg xmlns=\"http://www.w3.org/2000/svg\" height=\"24px\"viewBox=\"0 0 24 24\"\n",
              "       width=\"24px\">\n",
              "    <path d=\"M0 0h24v24H0V0z\" fill=\"none\"/>\n",
              "    <path d=\"M18.56 5.44l.94 2.06.94-2.06 2.06-.94-2.06-.94-.94-2.06-.94 2.06-2.06.94zm-11 1L8.5 8.5l.94-2.06 2.06-.94-2.06-.94L8.5 2.5l-.94 2.06-2.06.94zm10 10l.94 2.06.94-2.06 2.06-.94-2.06-.94-.94-2.06-.94 2.06-2.06.94z\"/><path d=\"M17.41 7.96l-1.37-1.37c-.4-.4-.92-.59-1.43-.59-.52 0-1.04.2-1.43.59L10.3 9.45l-7.72 7.72c-.78.78-.78 2.05 0 2.83L4 21.41c.39.39.9.59 1.41.59.51 0 1.02-.2 1.41-.59l7.78-7.78 2.81-2.81c.8-.78.8-2.07 0-2.86zM5.41 20L4 18.59l7.72-7.72 1.47 1.35L5.41 20z\"/>\n",
              "  </svg>\n",
              "      </button>\n",
              "      \n",
              "  <style>\n",
              "    .colab-df-container {\n",
              "      display:flex;\n",
              "      flex-wrap:wrap;\n",
              "      gap: 12px;\n",
              "    }\n",
              "\n",
              "    .colab-df-convert {\n",
              "      background-color: #E8F0FE;\n",
              "      border: none;\n",
              "      border-radius: 50%;\n",
              "      cursor: pointer;\n",
              "      display: none;\n",
              "      fill: #1967D2;\n",
              "      height: 32px;\n",
              "      padding: 0 0 0 0;\n",
              "      width: 32px;\n",
              "    }\n",
              "\n",
              "    .colab-df-convert:hover {\n",
              "      background-color: #E2EBFA;\n",
              "      box-shadow: 0px 1px 2px rgba(60, 64, 67, 0.3), 0px 1px 3px 1px rgba(60, 64, 67, 0.15);\n",
              "      fill: #174EA6;\n",
              "    }\n",
              "\n",
              "    [theme=dark] .colab-df-convert {\n",
              "      background-color: #3B4455;\n",
              "      fill: #D2E3FC;\n",
              "    }\n",
              "\n",
              "    [theme=dark] .colab-df-convert:hover {\n",
              "      background-color: #434B5C;\n",
              "      box-shadow: 0px 1px 3px 1px rgba(0, 0, 0, 0.15);\n",
              "      filter: drop-shadow(0px 1px 2px rgba(0, 0, 0, 0.3));\n",
              "      fill: #FFFFFF;\n",
              "    }\n",
              "  </style>\n",
              "\n",
              "      <script>\n",
              "        const buttonEl =\n",
              "          document.querySelector('#df-d9747045-6666-4040-b0aa-e5364bfe63ff button.colab-df-convert');\n",
              "        buttonEl.style.display =\n",
              "          google.colab.kernel.accessAllowed ? 'block' : 'none';\n",
              "\n",
              "        async function convertToInteractive(key) {\n",
              "          const element = document.querySelector('#df-d9747045-6666-4040-b0aa-e5364bfe63ff');\n",
              "          const dataTable =\n",
              "            await google.colab.kernel.invokeFunction('convertToInteractive',\n",
              "                                                     [key], {});\n",
              "          if (!dataTable) return;\n",
              "\n",
              "          const docLinkHtml = 'Like what you see? Visit the ' +\n",
              "            '<a target=\"_blank\" href=https://colab.research.google.com/notebooks/data_table.ipynb>data table notebook</a>'\n",
              "            + ' to learn more about interactive tables.';\n",
              "          element.innerHTML = '';\n",
              "          dataTable['output_type'] = 'display_data';\n",
              "          await google.colab.output.renderOutput(dataTable, element);\n",
              "          const docLink = document.createElement('div');\n",
              "          docLink.innerHTML = docLinkHtml;\n",
              "          element.appendChild(docLink);\n",
              "        }\n",
              "      </script>\n",
              "    </div>\n",
              "  </div>\n",
              "  "
            ]
          },
          "metadata": {},
          "execution_count": 37
        }
      ]
    },
    {
      "cell_type": "code",
      "source": [
        "#pip install openpyxl\n",
        "#df_portaria.to_excel(r'Dados_condominio.xlsx', index = False)"
      ],
      "metadata": {
        "id": "Sp6YPfiYg3Md"
      },
      "execution_count": null,
      "outputs": []
    },
    {
      "cell_type": "markdown",
      "source": [
        "### Verificando a contagem de cada um dos valores"
      ],
      "metadata": {
        "id": "y_1YRLIBJjcs"
      }
    },
    {
      "cell_type": "code",
      "source": [
        "#dados_2022 = df_portaria.loc[df_portaria.Data_Movimentacao.dt.to_period(\"Y\") == '2022']"
      ],
      "metadata": {
        "id": "nmfXQpJei-PO"
      },
      "execution_count": null,
      "outputs": []
    },
    {
      "cell_type": "code",
      "source": [
        "df_portaria['Data_Movimentacao'].groupby(df_portaria.Data_Movimentacao.dt.to_period(\"Y\")).agg('count')"
      ],
      "metadata": {
        "colab": {
          "base_uri": "https://localhost:8080/"
        },
        "id": "upwwu0YSKQ48",
        "outputId": "0a7a72d1-a174-4190-a653-ebc0bb573c6b"
      },
      "execution_count": null,
      "outputs": [
        {
          "output_type": "execute_result",
          "data": {
            "text/plain": [
              "Data_Movimentacao\n",
              "2021    11254\n",
              "2022    14888\n",
              "Freq: A-DEC, Name: Data_Movimentacao, dtype: int64"
            ]
          },
          "metadata": {},
          "execution_count": 40
        }
      ]
    },
    {
      "cell_type": "code",
      "source": [
        "df_portaria.shape"
      ],
      "metadata": {
        "colab": {
          "base_uri": "https://localhost:8080/"
        },
        "id": "Use7jnxIjHvf",
        "outputId": "3265b34d-77b8-4935-e9cb-08a4e5263f6c"
      },
      "execution_count": null,
      "outputs": [
        {
          "output_type": "execute_result",
          "data": {
            "text/plain": [
              "(26142, 9)"
            ]
          },
          "metadata": {},
          "execution_count": 41
        }
      ]
    },
    {
      "cell_type": "code",
      "source": [
        "df_portaria['Data_Movimentacao'].groupby(df_portaria.Data_Movimentacao.dt.to_period(\"M\")).agg('count')"
      ],
      "metadata": {
        "colab": {
          "base_uri": "https://localhost:8080/"
        },
        "id": "0oLDjzTcLdzq",
        "outputId": "15fff804-6f5a-4c3d-eb9c-2c181fe8964d"
      },
      "execution_count": null,
      "outputs": [
        {
          "output_type": "execute_result",
          "data": {
            "text/plain": [
              "Data_Movimentacao\n",
              "2021-10    3800\n",
              "2021-11    3708\n",
              "2021-12    3746\n",
              "2022-01    3808\n",
              "2022-02    3538\n",
              "2022-03    3654\n",
              "2022-04    3768\n",
              "2022-05     120\n",
              "Freq: M, Name: Data_Movimentacao, dtype: int64"
            ]
          },
          "metadata": {},
          "execution_count": 42
        }
      ]
    },
    {
      "cell_type": "code",
      "source": [
        "df_portaria = df_portaria.loc[df_portaria.Data_Movimentacao.dt.to_period(\"M\") != '2022-05']"
      ],
      "metadata": {
        "id": "83QfIKKXvp7W"
      },
      "execution_count": null,
      "outputs": []
    },
    {
      "cell_type": "code",
      "source": [
        "df_portaria['entrada_saida'].value_counts()"
      ],
      "metadata": {
        "colab": {
          "base_uri": "https://localhost:8080/"
        },
        "id": "MpbEGJUgGPEf",
        "outputId": "cbd93488-8508-4205-8d8b-5389899e4827"
      },
      "execution_count": null,
      "outputs": [
        {
          "output_type": "execute_result",
          "data": {
            "text/plain": [
              "Saída      13011\n",
              "Entrada    13011\n",
              "Name: entrada_saida, dtype: int64"
            ]
          },
          "metadata": {},
          "execution_count": 44
        }
      ]
    },
    {
      "cell_type": "code",
      "source": [
        "df_portaria['Hora'].value_counts()"
      ],
      "metadata": {
        "colab": {
          "base_uri": "https://localhost:8080/"
        },
        "id": "ZH5RK8avg6V4",
        "outputId": "d2572735-d8e8-40e0-a57a-53c302598322"
      },
      "execution_count": null,
      "outputs": [
        {
          "output_type": "execute_result",
          "data": {
            "text/plain": [
              "19    2620\n",
              "20    2620\n",
              "18    2613\n",
              "21    2609\n",
              "17    2549\n",
              "9     2244\n",
              "8     2179\n",
              "11    2178\n",
              "10    2160\n",
              "12    2145\n",
              "7     2105\n",
              "Name: Hora, dtype: int64"
            ]
          },
          "metadata": {},
          "execution_count": 45
        }
      ]
    },
    {
      "cell_type": "code",
      "source": [
        "df_portaria['Hora'].value_counts().plot(kind='bar')\n",
        "plt.title('Horários de pico das saídas e entrada das residências')\n",
        "plt.show()"
      ],
      "metadata": {
        "colab": {
          "base_uri": "https://localhost:8080/"
        },
        "id": "bYZ_Bz7pG15T",
        "outputId": "cb37a5c9-7d63-4212-ca91-d2ba18afe51d"
      },
      "execution_count": null,
      "outputs": [
        {
          "output_type": "display_data",
          "data": {
            "text/plain": [
              "<Figure size 432x288 with 1 Axes>"
            ],
            "image/png": "[encoded data removed]"
          },
          "metadata": {
            "needs_background": "light"
          }
        }
      ]
    },
    {
      "cell_type": "code",
      "source": [
        "df_portaria['nr_condominio'].value_counts()"
      ],
      "metadata": {
        "colab": {
          "base_uri": "https://localhost:8080/"
        },
        "id": "aygCZQMWHNHJ",
        "outputId": "1994402d-39ba-4a7d-9152-6c8af5deee65"
      },
      "execution_count": null,
      "outputs": [
        {
          "output_type": "execute_result",
          "data": {
            "text/plain": [
              "12    19988\n",
              "17     6034\n",
              "Name: nr_condominio, dtype: int64"
            ]
          },
          "metadata": {},
          "execution_count": 47
        }
      ]
    },
    {
      "cell_type": "code",
      "source": [
        "df_portaria['Nome_condominio'].value_counts()"
      ],
      "metadata": {
        "colab": {
          "base_uri": "https://localhost:8080/"
        },
        "id": "F_GnsxViHXGE",
        "outputId": "46209667-2429-4983-c8ce-bb91ac229ad7"
      },
      "execution_count": null,
      "outputs": [
        {
          "output_type": "execute_result",
          "data": {
            "text/plain": [
              "Melissa Garden    19988\n",
              "Flowers Queen      6034\n",
              "Name: Nome_condominio, dtype: int64"
            ]
          },
          "metadata": {},
          "execution_count": 48
        }
      ]
    },
    {
      "cell_type": "code",
      "source": [
        "df_portaria['dia_semana'].value_counts()"
      ],
      "metadata": {
        "colab": {
          "base_uri": "https://localhost:8080/"
        },
        "id": "uQgebp1VxfdT",
        "outputId": "128fd4ab-82a2-4e92-c1cd-0e84fb73ee77"
      },
      "execution_count": null,
      "outputs": [
        {
          "output_type": "execute_result",
          "data": {
            "text/plain": [
              "5    3880\n",
              "2    3856\n",
              "6    3718\n",
              "4    3710\n",
              "3    3708\n",
              "1    3594\n",
              "0    3556\n",
              "Name: dia_semana, dtype: int64"
            ]
          },
          "metadata": {},
          "execution_count": 49
        }
      ]
    },
    {
      "cell_type": "code",
      "source": [
        "df_portaria['nr_lote'].value_counts()"
      ],
      "metadata": {
        "colab": {
          "base_uri": "https://localhost:8080/"
        },
        "id": "M5ZQC8UDHiUq",
        "outputId": "6a6b03a7-a28a-4c8c-c625-5f11b9359299"
      },
      "execution_count": null,
      "outputs": [
        {
          "output_type": "execute_result",
          "data": {
            "text/plain": [
              "9      304\n",
              "7      296\n",
              "26     270\n",
              "1      270\n",
              "11     264\n",
              "      ... \n",
              "118     62\n",
              "201     62\n",
              "73      60\n",
              "179     58\n",
              "158     58\n",
              "Name: nr_lote, Length: 222, dtype: int64"
            ]
          },
          "metadata": {},
          "execution_count": 50
        }
      ]
    },
    {
      "cell_type": "code",
      "source": [
        "df_portaria['Tipo Veículo'].value_counts()"
      ],
      "metadata": {
        "colab": {
          "base_uri": "https://localhost:8080/"
        },
        "id": "sBnaxdr1G_17",
        "outputId": "2079af43-6101-450b-83d8-220ae78418e9"
      },
      "execution_count": null,
      "outputs": [
        {
          "output_type": "execute_result",
          "data": {
            "text/plain": [
              "Automóvel      25448\n",
              "Motocicleta      427\n",
              "Caminhão         139\n",
              "v                  8\n",
              "Name: Tipo Veículo, dtype: int64"
            ]
          },
          "metadata": {},
          "execution_count": 51
        }
      ]
    },
    {
      "cell_type": "markdown",
      "source": [
        "### Retirando das análises os valores incorretos"
      ],
      "metadata": {
        "id": "k2NpINrduywY"
      }
    },
    {
      "cell_type": "code",
      "source": [
        "df_portaria['Tipo Veículo'].hist()\n",
        "plt.title(\"Veículos mais utilizados\")\n",
        "plt.show()"
      ],
      "metadata": {
        "colab": {
          "base_uri": "https://localhost:8080/"
        },
        "id": "B4sYe_qpuCfP",
        "outputId": "5df6bd43-ed3f-41f4-85b6-e6cad1cbea05"
      },
      "execution_count": null,
      "outputs": [
        {
          "output_type": "display_data",
          "data": {
            "text/plain": [
              "<Figure size 432x288 with 1 Axes>"
            ],
            "image/png": "[encoded data removed]"
          },
          "metadata": {
            "needs_background": "light"
          }
        }
      ]
    },
    {
      "cell_type": "code",
      "source": [
        "df_portaria.loc[df_portaria['Tipo Veículo'] == 'v']"
      ],
      "metadata": {
        "colab": {
          "base_uri": "https://localhost:8080/"
        },
        "id": "3L6ABN52Hqr6",
        "outputId": "d220e29a-d694-45a1-c35a-74a727e25b52"
      },
      "execution_count": null,
      "outputs": [
        {
          "output_type": "execute_result",
          "data": {
            "text/plain": [
              "       nr_movimento  nr_condominio Nome_condominio  nr_lote Tipo Veículo  \\\n",
              "227        19876439             12  Melissa Garden      147            v   \n",
              "955        19877167             12  Melissa Garden       69            v   \n",
              "17171      19981762             12  Melissa Garden      159            v   \n",
              "17591      19982182             12  Melissa Garden      110            v   \n",
              "19831      19984422             12  Melissa Garden      132            v   \n",
              "20643      19985234             12  Melissa Garden      104            v   \n",
              "22144      19986735             12  Melissa Garden      172            v   \n",
              "24188       6679075             17   Flowers Queen       28            v   \n",
              "\n",
              "      Data_Movimentacao  Hora entrada_saida  dia_semana  \n",
              "227          2022-04-07     9         Saída           3  \n",
              "955          2022-01-19     8         Saída           2  \n",
              "17171        2021-10-31    17       Entrada           6  \n",
              "17591        2022-04-24    18       Entrada           6  \n",
              "19831        2022-04-06    19       Entrada           2  \n",
              "20643        2021-12-12    21       Entrada           6  \n",
              "22144        2022-01-05    20       Entrada           2  \n",
              "24188        2021-11-15    20       Entrada           0  "
            ],
            "text/html": [
              "\n",
              "  <div id=\"df-5d6dc97f-819a-4b13-8515-3b80551df413\">\n",
              "    <div class=\"colab-df-container\">\n",
              "      <div>\n",
              "<style scoped>\n",
              "    .dataframe tbody tr th:only-of-type {\n",
              "        vertical-align: middle;\n",
              "    }\n",
              "\n",
              "    .dataframe tbody tr th {\n",
              "        vertical-align: top;\n",
              "    }\n",
              "\n",
              "    .dataframe thead th {\n",
              "        text-align: right;\n",
              "    }\n",
              "</style>\n",
              "<table border=\"1\" class=\"dataframe\">\n",
              "  <thead>\n",
              "    <tr style=\"text-align: right;\">\n",
              "      <th></th>\n",
              "      <th>nr_movimento</th>\n",
              "      <th>nr_condominio</th>\n",
              "      <th>Nome_condominio</th>\n",
              "      <th>nr_lote</th>\n",
              "      <th>Tipo Veículo</th>\n",
              "      <th>Data_Movimentacao</th>\n",
              "      <th>Hora</th>\n",
              "      <th>entrada_saida</th>\n",
              "      <th>dia_semana</th>\n",
              "    </tr>\n",
              "  </thead>\n",
              "  <tbody>\n",
              "    <tr>\n",
              "      <th>227</th>\n",
              "      <td>19876439</td>\n",
              "      <td>12</td>\n",
              "      <td>Melissa Garden</td>\n",
              "      <td>147</td>\n",
              "      <td>v</td>\n",
              "      <td>2022-04-07</td>\n",
              "      <td>9</td>\n",
              "      <td>Saída</td>\n",
              "      <td>3</td>\n",
              "    </tr>\n",
              "    <tr>\n",
              "      <th>955</th>\n",
              "      <td>19877167</td>\n",
              "      <td>12</td>\n",
              "      <td>Melissa Garden</td>\n",
              "      <td>69</td>\n",
              "      <td>v</td>\n",
              "      <td>2022-01-19</td>\n",
              "      <td>8</td>\n",
              "      <td>Saída</td>\n",
              "      <td>2</td>\n",
              "    </tr>\n",
              "    <tr>\n",
              "      <th>17171</th>\n",
              "      <td>19981762</td>\n",
              "      <td>12</td>\n",
              "      <td>Melissa Garden</td>\n",
              "      <td>159</td>\n",
              "      <td>v</td>\n",
              "      <td>2021-10-31</td>\n",
              "      <td>17</td>\n",
              "      <td>Entrada</td>\n",
              "      <td>6</td>\n",
              "    </tr>\n",
              "    <tr>\n",
              "      <th>17591</th>\n",
              "      <td>19982182</td>\n",
              "      <td>12</td>\n",
              "      <td>Melissa Garden</td>\n",
              "      <td>110</td>\n",
              "      <td>v</td>\n",
              "      <td>2022-04-24</td>\n",
              "      <td>18</td>\n",
              "      <td>Entrada</td>\n",
              "      <td>6</td>\n",
              "    </tr>\n",
              "    <tr>\n",
              "      <th>19831</th>\n",
              "      <td>19984422</td>\n",
              "      <td>12</td>\n",
              "      <td>Melissa Garden</td>\n",
              "      <td>132</td>\n",
              "      <td>v</td>\n",
              "      <td>2022-04-06</td>\n",
              "      <td>19</td>\n",
              "      <td>Entrada</td>\n",
              "      <td>2</td>\n",
              "    </tr>\n",
              "    <tr>\n",
              "      <th>20643</th>\n",
              "      <td>19985234</td>\n",
              "      <td>12</td>\n",
              "      <td>Melissa Garden</td>\n",
              "      <td>104</td>\n",
              "      <td>v</td>\n",
              "      <td>2021-12-12</td>\n",
              "      <td>21</td>\n",
              "      <td>Entrada</td>\n",
              "      <td>6</td>\n",
              "    </tr>\n",
              "    <tr>\n",
              "      <th>22144</th>\n",
              "      <td>19986735</td>\n",
              "      <td>12</td>\n",
              "      <td>Melissa Garden</td>\n",
              "      <td>172</td>\n",
              "      <td>v</td>\n",
              "      <td>2022-01-05</td>\n",
              "      <td>20</td>\n",
              "      <td>Entrada</td>\n",
              "      <td>2</td>\n",
              "    </tr>\n",
              "    <tr>\n",
              "      <th>24188</th>\n",
              "      <td>6679075</td>\n",
              "      <td>17</td>\n",
              "      <td>Flowers Queen</td>\n",
              "      <td>28</td>\n",
              "      <td>v</td>\n",
              "      <td>2021-11-15</td>\n",
              "      <td>20</td>\n",
              "      <td>Entrada</td>\n",
              "      <td>0</td>\n",
              "    </tr>\n",
              "  </tbody>\n",
              "</table>\n",
              "</div>\n",
              "      <button class=\"colab-df-convert\" onclick=\"convertToInteractive('df-5d6dc97f-819a-4b13-8515-3b80551df413')\"\n",
              "              title=\"Convert this dataframe to an interactive table.\"\n",
              "              style=\"display:none;\">\n",
              "        \n",
              "  <svg xmlns=\"http://www.w3.org/2000/svg\" height=\"24px\"viewBox=\"0 0 24 24\"\n",
              "       width=\"24px\">\n",
              "    <path d=\"M0 0h24v24H0V0z\" fill=\"none\"/>\n",
              "    <path d=\"M18.56 5.44l.94 2.06.94-2.06 2.06-.94-2.06-.94-.94-2.06-.94 2.06-2.06.94zm-11 1L8.5 8.5l.94-2.06 2.06-.94-2.06-.94L8.5 2.5l-.94 2.06-2.06.94zm10 10l.94 2.06.94-2.06 2.06-.94-2.06-.94-.94-2.06-.94 2.06-2.06.94z\"/><path d=\"M17.41 7.96l-1.37-1.37c-.4-.4-.92-.59-1.43-.59-.52 0-1.04.2-1.43.59L10.3 9.45l-7.72 7.72c-.78.78-.78 2.05 0 2.83L4 21.41c.39.39.9.59 1.41.59.51 0 1.02-.2 1.41-.59l7.78-7.78 2.81-2.81c.8-.78.8-2.07 0-2.86zM5.41 20L4 18.59l7.72-7.72 1.47 1.35L5.41 20z\"/>\n",
              "  </svg>\n",
              "      </button>\n",
              "      \n",
              "  <style>\n",
              "    .colab-df-container {\n",
              "      display:flex;\n",
              "      flex-wrap:wrap;\n",
              "      gap: 12px;\n",
              "    }\n",
              "\n",
              "    .colab-df-convert {\n",
              "      background-color: #E8F0FE;\n",
              "      border: none;\n",
              "      border-radius: 50%;\n",
              "      cursor: pointer;\n",
              "      display: none;\n",
              "      fill: #1967D2;\n",
              "      height: 32px;\n",
              "      padding: 0 0 0 0;\n",
              "      width: 32px;\n",
              "    }\n",
              "\n",
              "    .colab-df-convert:hover {\n",
              "      background-color: #E2EBFA;\n",
              "      box-shadow: 0px 1px 2px rgba(60, 64, 67, 0.3), 0px 1px 3px 1px rgba(60, 64, 67, 0.15);\n",
              "      fill: #174EA6;\n",
              "    }\n",
              "\n",
              "    [theme=dark] .colab-df-convert {\n",
              "      background-color: #3B4455;\n",
              "      fill: #D2E3FC;\n",
              "    }\n",
              "\n",
              "    [theme=dark] .colab-df-convert:hover {\n",
              "      background-color: #434B5C;\n",
              "      box-shadow: 0px 1px 3px 1px rgba(0, 0, 0, 0.15);\n",
              "      filter: drop-shadow(0px 1px 2px rgba(0, 0, 0, 0.3));\n",
              "      fill: #FFFFFF;\n",
              "    }\n",
              "  </style>\n",
              "\n",
              "      <script>\n",
              "        const buttonEl =\n",
              "          document.querySelector('#df-5d6dc97f-819a-4b13-8515-3b80551df413 button.colab-df-convert');\n",
              "        buttonEl.style.display =\n",
              "          google.colab.kernel.accessAllowed ? 'block' : 'none';\n",
              "\n",
              "        async function convertToInteractive(key) {\n",
              "          const element = document.querySelector('#df-5d6dc97f-819a-4b13-8515-3b80551df413');\n",
              "          const dataTable =\n",
              "            await google.colab.kernel.invokeFunction('convertToInteractive',\n",
              "                                                     [key], {});\n",
              "          if (!dataTable) return;\n",
              "\n",
              "          const docLinkHtml = 'Like what you see? Visit the ' +\n",
              "            '<a target=\"_blank\" href=https://colab.research.google.com/notebooks/data_table.ipynb>data table notebook</a>'\n",
              "            + ' to learn more about interactive tables.';\n",
              "          element.innerHTML = '';\n",
              "          dataTable['output_type'] = 'display_data';\n",
              "          await google.colab.output.renderOutput(dataTable, element);\n",
              "          const docLink = document.createElement('div');\n",
              "          docLink.innerHTML = docLinkHtml;\n",
              "          element.appendChild(docLink);\n",
              "        }\n",
              "      </script>\n",
              "    </div>\n",
              "  </div>\n",
              "  "
            ]
          },
          "metadata": {},
          "execution_count": 53
        }
      ]
    },
    {
      "cell_type": "code",
      "source": [
        "df_portaria = df_portaria.loc[df_portaria['Tipo Veículo'] != 'v']"
      ],
      "metadata": {
        "id": "AG-bS2u8UuG9"
      },
      "execution_count": null,
      "outputs": []
    },
    {
      "cell_type": "code",
      "source": [
        "df_portaria.loc[df_portaria['Tipo Veículo'] == 'v']"
      ],
      "metadata": {
        "id": "Ed_x3lz3VGcV",
        "outputId": "8ba34b8d-5f90-414d-f92d-dd5c5ec7796d",
        "colab": {
          "base_uri": "https://localhost:8080/"
        }
      },
      "execution_count": null,
      "outputs": [
        {
          "output_type": "execute_result",
          "data": {
            "text/plain": [
              "Empty DataFrame\n",
              "Columns: [nr_movimento, nr_condominio, Nome_condominio, nr_lote, Tipo Veículo, Data_Movimentacao, Hora, entrada_saida, dia_semana]\n",
              "Index: []"
            ],
            "text/html": [
              "\n",
              "  <div id=\"df-464011be-6fe9-47cb-bbc3-d4a52d52e7d4\">\n",
              "    <div class=\"colab-df-container\">\n",
              "      <div>\n",
              "<style scoped>\n",
              "    .dataframe tbody tr th:only-of-type {\n",
              "        vertical-align: middle;\n",
              "    }\n",
              "\n",
              "    .dataframe tbody tr th {\n",
              "        vertical-align: top;\n",
              "    }\n",
              "\n",
              "    .dataframe thead th {\n",
              "        text-align: right;\n",
              "    }\n",
              "</style>\n",
              "<table border=\"1\" class=\"dataframe\">\n",
              "  <thead>\n",
              "    <tr style=\"text-align: right;\">\n",
              "      <th></th>\n",
              "      <th>nr_movimento</th>\n",
              "      <th>nr_condominio</th>\n",
              "      <th>Nome_condominio</th>\n",
              "      <th>nr_lote</th>\n",
              "      <th>Tipo Veículo</th>\n",
              "      <th>Data_Movimentacao</th>\n",
              "      <th>Hora</th>\n",
              "      <th>entrada_saida</th>\n",
              "      <th>dia_semana</th>\n",
              "    </tr>\n",
              "  </thead>\n",
              "  <tbody>\n",
              "  </tbody>\n",
              "</table>\n",
              "</div>\n",
              "      <button class=\"colab-df-convert\" onclick=\"convertToInteractive('df-464011be-6fe9-47cb-bbc3-d4a52d52e7d4')\"\n",
              "              title=\"Convert this dataframe to an interactive table.\"\n",
              "              style=\"display:none;\">\n",
              "        \n",
              "  <svg xmlns=\"http://www.w3.org/2000/svg\" height=\"24px\"viewBox=\"0 0 24 24\"\n",
              "       width=\"24px\">\n",
              "    <path d=\"M0 0h24v24H0V0z\" fill=\"none\"/>\n",
              "    <path d=\"M18.56 5.44l.94 2.06.94-2.06 2.06-.94-2.06-.94-.94-2.06-.94 2.06-2.06.94zm-11 1L8.5 8.5l.94-2.06 2.06-.94-2.06-.94L8.5 2.5l-.94 2.06-2.06.94zm10 10l.94 2.06.94-2.06 2.06-.94-2.06-.94-.94-2.06-.94 2.06-2.06.94z\"/><path d=\"M17.41 7.96l-1.37-1.37c-.4-.4-.92-.59-1.43-.59-.52 0-1.04.2-1.43.59L10.3 9.45l-7.72 7.72c-.78.78-.78 2.05 0 2.83L4 21.41c.39.39.9.59 1.41.59.51 0 1.02-.2 1.41-.59l7.78-7.78 2.81-2.81c.8-.78.8-2.07 0-2.86zM5.41 20L4 18.59l7.72-7.72 1.47 1.35L5.41 20z\"/>\n",
              "  </svg>\n",
              "      </button>\n",
              "      \n",
              "  <style>\n",
              "    .colab-df-container {\n",
              "      display:flex;\n",
              "      flex-wrap:wrap;\n",
              "      gap: 12px;\n",
              "    }\n",
              "\n",
              "    .colab-df-convert {\n",
              "      background-color: #E8F0FE;\n",
              "      border: none;\n",
              "      border-radius: 50%;\n",
              "      cursor: pointer;\n",
              "      display: none;\n",
              "      fill: #1967D2;\n",
              "      height: 32px;\n",
              "      padding: 0 0 0 0;\n",
              "      width: 32px;\n",
              "    }\n",
              "\n",
              "    .colab-df-convert:hover {\n",
              "      background-color: #E2EBFA;\n",
              "      box-shadow: 0px 1px 2px rgba(60, 64, 67, 0.3), 0px 1px 3px 1px rgba(60, 64, 67, 0.15);\n",
              "      fill: #174EA6;\n",
              "    }\n",
              "\n",
              "    [theme=dark] .colab-df-convert {\n",
              "      background-color: #3B4455;\n",
              "      fill: #D2E3FC;\n",
              "    }\n",
              "\n",
              "    [theme=dark] .colab-df-convert:hover {\n",
              "      background-color: #434B5C;\n",
              "      box-shadow: 0px 1px 3px 1px rgba(0, 0, 0, 0.15);\n",
              "      filter: drop-shadow(0px 1px 2px rgba(0, 0, 0, 0.3));\n",
              "      fill: #FFFFFF;\n",
              "    }\n",
              "  </style>\n",
              "\n",
              "      <script>\n",
              "        const buttonEl =\n",
              "          document.querySelector('#df-464011be-6fe9-47cb-bbc3-d4a52d52e7d4 button.colab-df-convert');\n",
              "        buttonEl.style.display =\n",
              "          google.colab.kernel.accessAllowed ? 'block' : 'none';\n",
              "\n",
              "        async function convertToInteractive(key) {\n",
              "          const element = document.querySelector('#df-464011be-6fe9-47cb-bbc3-d4a52d52e7d4');\n",
              "          const dataTable =\n",
              "            await google.colab.kernel.invokeFunction('convertToInteractive',\n",
              "                                                     [key], {});\n",
              "          if (!dataTable) return;\n",
              "\n",
              "          const docLinkHtml = 'Like what you see? Visit the ' +\n",
              "            '<a target=\"_blank\" href=https://colab.research.google.com/notebooks/data_table.ipynb>data table notebook</a>'\n",
              "            + ' to learn more about interactive tables.';\n",
              "          element.innerHTML = '';\n",
              "          dataTable['output_type'] = 'display_data';\n",
              "          await google.colab.output.renderOutput(dataTable, element);\n",
              "          const docLink = document.createElement('div');\n",
              "          docLink.innerHTML = docLinkHtml;\n",
              "          element.appendChild(docLink);\n",
              "        }\n",
              "      </script>\n",
              "    </div>\n",
              "  </div>\n",
              "  "
            ]
          },
          "metadata": {},
          "execution_count": 55
        }
      ]
    },
    {
      "cell_type": "markdown",
      "source": [
        "### Proporção das horas de entrada e saída dos moradores"
      ],
      "metadata": {
        "id": "3IAv1p56vFf4"
      }
    },
    {
      "cell_type": "code",
      "source": [
        "dados_entrada = df_portaria.loc[df_portaria['entrada_saida'] == 'Entrada']"
      ],
      "metadata": {
        "id": "OgmchYe53YhC"
      },
      "execution_count": null,
      "outputs": []
    },
    {
      "cell_type": "code",
      "source": [
        "dados_entrada['Hora'].hist()\n",
        "plt.title(\"Horários de entrada nas residências\")\n",
        "plt.show()"
      ],
      "metadata": {
        "colab": {
          "base_uri": "https://localhost:8080/"
        },
        "id": "9cJPzjyu3uyI",
        "outputId": "cb1d7148-2376-48fc-94ac-2f5849b71c12"
      },
      "execution_count": null,
      "outputs": [
        {
          "output_type": "display_data",
          "data": {
            "text/plain": [
              "<Figure size 432x288 with 1 Axes>"
            ],
            "image/png": "[encoded data removed]"
          },
          "metadata": {
            "needs_background": "light"
          }
        }
      ]
    },
    {
      "cell_type": "code",
      "source": [
        "df_portaria.groupby(['dia_semana','entrada_saida'])['dia_semana'].count()"
      ],
      "metadata": {
        "id": "6bEKAlHA5akS",
        "colab": {
          "base_uri": "https://localhost:8080/"
        },
        "outputId": "88106bbb-2aac-467f-a236-ccf153e72438"
      },
      "execution_count": null,
      "outputs": [
        {
          "output_type": "execute_result",
          "data": {
            "text/plain": [
              "dia_semana  entrada_saida\n",
              "0           Entrada          1777\n",
              "            Saída            1778\n",
              "1           Entrada          1797\n",
              "            Saída            1797\n",
              "2           Entrada          1926\n",
              "            Saída            1927\n",
              "3           Entrada          1854\n",
              "            Saída            1853\n",
              "4           Entrada          1855\n",
              "            Saída            1855\n",
              "5           Entrada          1940\n",
              "            Saída            1940\n",
              "6           Entrada          1856\n",
              "            Saída            1859\n",
              "Name: dia_semana, dtype: int64"
            ]
          },
          "metadata": {},
          "execution_count": 58
        }
      ]
    },
    {
      "cell_type": "code",
      "source": [
        "dados_entrada['dia_semana'].hist()\n",
        "plt.title(\"Dias da semana de entrada nas residências\")\n",
        "plt.show()"
      ],
      "metadata": {
        "colab": {
          "base_uri": "https://localhost:8080/"
        },
        "id": "ds0wLBAqQH9-",
        "outputId": "dc79ad68-3979-4a4d-e252-14a57fc75647"
      },
      "execution_count": null,
      "outputs": [
        {
          "output_type": "display_data",
          "data": {
            "text/plain": [
              "<Figure size 432x288 with 1 Axes>"
            ],
            "image/png": "[encoded data removed]"
          },
          "metadata": {
            "needs_background": "light"
          }
        }
      ]
    },
    {
      "cell_type": "code",
      "source": [
        "dados_saida = df_portaria.loc[df_portaria['entrada_saida'] == 'Saída']"
      ],
      "metadata": {
        "id": "QfKwa30Y39HH"
      },
      "execution_count": null,
      "outputs": []
    },
    {
      "cell_type": "code",
      "source": [
        "dados_saida"
      ],
      "metadata": {
        "colab": {
          "base_uri": "https://localhost:8080/"
        },
        "id": "C8XWewC-4aMU",
        "outputId": "f635b043-64e1-41ef-f730-c0650096d73f"
      },
      "execution_count": null,
      "outputs": [
        {
          "output_type": "execute_result",
          "data": {
            "text/plain": [
              "       nr_movimento  nr_condominio Nome_condominio  nr_lote Tipo Veículo  \\\n",
              "0          19876212             12  Melissa Garden      209    Automóvel   \n",
              "1          19876213             12  Melissa Garden      108    Automóvel   \n",
              "2          19876214             12  Melissa Garden      114    Automóvel   \n",
              "3          19876215             12  Melissa Garden      153    Automóvel   \n",
              "4          19876216             12  Melissa Garden       30    Automóvel   \n",
              "...             ...            ...             ...      ...          ...   \n",
              "13066      65656467             17   Flowers Queen       18    Automóvel   \n",
              "13067      65656468             17   Flowers Queen       28    Automóvel   \n",
              "13068      65656469             17   Flowers Queen        7    Automóvel   \n",
              "13069      65656470             17   Flowers Queen       30    Automóvel   \n",
              "13070      65656471             17   Flowers Queen       20    Automóvel   \n",
              "\n",
              "      Data_Movimentacao  Hora entrada_saida  dia_semana  \n",
              "0            2021-10-12    11         Saída           1  \n",
              "1            2022-01-25     8         Saída           1  \n",
              "2            2021-11-03    12         Saída           2  \n",
              "3            2022-04-12     9         Saída           1  \n",
              "4            2021-11-21    11         Saída           6  \n",
              "...                 ...   ...           ...         ...  \n",
              "13066        2021-11-24    12         Saída           2  \n",
              "13067        2022-04-11    12         Saída           0  \n",
              "13068        2022-03-31    10         Saída           3  \n",
              "13069        2022-03-03    11         Saída           3  \n",
              "13070        2021-11-21     9         Saída           6  \n",
              "\n",
              "[13009 rows x 9 columns]"
            ],
            "text/html": [
              "\n",
              "  <div id=\"df-3aff1d2f-763f-43cb-937b-3ea097b7da4c\">\n",
              "    <div class=\"colab-df-container\">\n",
              "      <div>\n",
              "<style scoped>\n",
              "    .dataframe tbody tr th:only-of-type {\n",
              "        vertical-align: middle;\n",
              "    }\n",
              "\n",
              "    .dataframe tbody tr th {\n",
              "        vertical-align: top;\n",
              "    }\n",
              "\n",
              "    .dataframe thead th {\n",
              "        text-align: right;\n",
              "    }\n",
              "</style>\n",
              "<table border=\"1\" class=\"dataframe\">\n",
              "  <thead>\n",
              "    <tr style=\"text-align: right;\">\n",
              "      <th></th>\n",
              "      <th>nr_movimento</th>\n",
              "      <th>nr_condominio</th>\n",
              "      <th>Nome_condominio</th>\n",
              "      <th>nr_lote</th>\n",
              "      <th>Tipo Veículo</th>\n",
              "      <th>Data_Movimentacao</th>\n",
              "      <th>Hora</th>\n",
              "      <th>entrada_saida</th>\n",
              "      <th>dia_semana</th>\n",
              "    </tr>\n",
              "  </thead>\n",
              "  <tbody>\n",
              "    <tr>\n",
              "      <th>0</th>\n",
              "      <td>19876212</td>\n",
              "      <td>12</td>\n",
              "      <td>Melissa Garden</td>\n",
              "      <td>209</td>\n",
              "      <td>Automóvel</td>\n",
              "      <td>2021-10-12</td>\n",
              "      <td>11</td>\n",
              "      <td>Saída</td>\n",
              "      <td>1</td>\n",
              "    </tr>\n",
              "    <tr>\n",
              "      <th>1</th>\n",
              "      <td>19876213</td>\n",
              "      <td>12</td>\n",
              "      <td>Melissa Garden</td>\n",
              "      <td>108</td>\n",
              "      <td>Automóvel</td>\n",
              "      <td>2022-01-25</td>\n",
              "      <td>8</td>\n",
              "      <td>Saída</td>\n",
              "      <td>1</td>\n",
              "    </tr>\n",
              "    <tr>\n",
              "      <th>2</th>\n",
              "      <td>19876214</td>\n",
              "      <td>12</td>\n",
              "      <td>Melissa Garden</td>\n",
              "      <td>114</td>\n",
              "      <td>Automóvel</td>\n",
              "      <td>2021-11-03</td>\n",
              "      <td>12</td>\n",
              "      <td>Saída</td>\n",
              "      <td>2</td>\n",
              "    </tr>\n",
              "    <tr>\n",
              "      <th>3</th>\n",
              "      <td>19876215</td>\n",
              "      <td>12</td>\n",
              "      <td>Melissa Garden</td>\n",
              "      <td>153</td>\n",
              "      <td>Automóvel</td>\n",
              "      <td>2022-04-12</td>\n",
              "      <td>9</td>\n",
              "      <td>Saída</td>\n",
              "      <td>1</td>\n",
              "    </tr>\n",
              "    <tr>\n",
              "      <th>4</th>\n",
              "      <td>19876216</td>\n",
              "      <td>12</td>\n",
              "      <td>Melissa Garden</td>\n",
              "      <td>30</td>\n",
              "      <td>Automóvel</td>\n",
              "      <td>2021-11-21</td>\n",
              "      <td>11</td>\n",
              "      <td>Saída</td>\n",
              "      <td>6</td>\n",
              "    </tr>\n",
              "    <tr>\n",
              "      <th>...</th>\n",
              "      <td>...</td>\n",
              "      <td>...</td>\n",
              "      <td>...</td>\n",
              "      <td>...</td>\n",
              "      <td>...</td>\n",
              "      <td>...</td>\n",
              "      <td>...</td>\n",
              "      <td>...</td>\n",
              "      <td>...</td>\n",
              "    </tr>\n",
              "    <tr>\n",
              "      <th>13066</th>\n",
              "      <td>65656467</td>\n",
              "      <td>17</td>\n",
              "      <td>Flowers Queen</td>\n",
              "      <td>18</td>\n",
              "      <td>Automóvel</td>\n",
              "      <td>2021-11-24</td>\n",
              "      <td>12</td>\n",
              "      <td>Saída</td>\n",
              "      <td>2</td>\n",
              "    </tr>\n",
              "    <tr>\n",
              "      <th>13067</th>\n",
              "      <td>65656468</td>\n",
              "      <td>17</td>\n",
              "      <td>Flowers Queen</td>\n",
              "      <td>28</td>\n",
              "      <td>Automóvel</td>\n",
              "      <td>2022-04-11</td>\n",
              "      <td>12</td>\n",
              "      <td>Saída</td>\n",
              "      <td>0</td>\n",
              "    </tr>\n",
              "    <tr>\n",
              "      <th>13068</th>\n",
              "      <td>65656469</td>\n",
              "      <td>17</td>\n",
              "      <td>Flowers Queen</td>\n",
              "      <td>7</td>\n",
              "      <td>Automóvel</td>\n",
              "      <td>2022-03-31</td>\n",
              "      <td>10</td>\n",
              "      <td>Saída</td>\n",
              "      <td>3</td>\n",
              "    </tr>\n",
              "    <tr>\n",
              "      <th>13069</th>\n",
              "      <td>65656470</td>\n",
              "      <td>17</td>\n",
              "      <td>Flowers Queen</td>\n",
              "      <td>30</td>\n",
              "      <td>Automóvel</td>\n",
              "      <td>2022-03-03</td>\n",
              "      <td>11</td>\n",
              "      <td>Saída</td>\n",
              "      <td>3</td>\n",
              "    </tr>\n",
              "    <tr>\n",
              "      <th>13070</th>\n",
              "      <td>65656471</td>\n",
              "      <td>17</td>\n",
              "      <td>Flowers Queen</td>\n",
              "      <td>20</td>\n",
              "      <td>Automóvel</td>\n",
              "      <td>2021-11-21</td>\n",
              "      <td>9</td>\n",
              "      <td>Saída</td>\n",
              "      <td>6</td>\n",
              "    </tr>\n",
              "  </tbody>\n",
              "</table>\n",
              "<p>13009 rows × 9 columns</p>\n",
              "</div>\n",
              "      <button class=\"colab-df-convert\" onclick=\"convertToInteractive('df-3aff1d2f-763f-43cb-937b-3ea097b7da4c')\"\n",
              "              title=\"Convert this dataframe to an interactive table.\"\n",
              "              style=\"display:none;\">\n",
              "        \n",
              "  <svg xmlns=\"http://www.w3.org/2000/svg\" height=\"24px\"viewBox=\"0 0 24 24\"\n",
              "       width=\"24px\">\n",
              "    <path d=\"M0 0h24v24H0V0z\" fill=\"none\"/>\n",
              "    <path d=\"M18.56 5.44l.94 2.06.94-2.06 2.06-.94-2.06-.94-.94-2.06-.94 2.06-2.06.94zm-11 1L8.5 8.5l.94-2.06 2.06-.94-2.06-.94L8.5 2.5l-.94 2.06-2.06.94zm10 10l.94 2.06.94-2.06 2.06-.94-2.06-.94-.94-2.06-.94 2.06-2.06.94z\"/><path d=\"M17.41 7.96l-1.37-1.37c-.4-.4-.92-.59-1.43-.59-.52 0-1.04.2-1.43.59L10.3 9.45l-7.72 7.72c-.78.78-.78 2.05 0 2.83L4 21.41c.39.39.9.59 1.41.59.51 0 1.02-.2 1.41-.59l7.78-7.78 2.81-2.81c.8-.78.8-2.07 0-2.86zM5.41 20L4 18.59l7.72-7.72 1.47 1.35L5.41 20z\"/>\n",
              "  </svg>\n",
              "      </button>\n",
              "      \n",
              "  <style>\n",
              "    .colab-df-container {\n",
              "      display:flex;\n",
              "      flex-wrap:wrap;\n",
              "      gap: 12px;\n",
              "    }\n",
              "\n",
              "    .colab-df-convert {\n",
              "      background-color: #E8F0FE;\n",
              "      border: none;\n",
              "      border-radius: 50%;\n",
              "      cursor: pointer;\n",
              "      display: none;\n",
              "      fill: #1967D2;\n",
              "      height: 32px;\n",
              "      padding: 0 0 0 0;\n",
              "      width: 32px;\n",
              "    }\n",
              "\n",
              "    .colab-df-convert:hover {\n",
              "      background-color: #E2EBFA;\n",
              "      box-shadow: 0px 1px 2px rgba(60, 64, 67, 0.3), 0px 1px 3px 1px rgba(60, 64, 67, 0.15);\n",
              "      fill: #174EA6;\n",
              "    }\n",
              "\n",
              "    [theme=dark] .colab-df-convert {\n",
              "      background-color: #3B4455;\n",
              "      fill: #D2E3FC;\n",
              "    }\n",
              "\n",
              "    [theme=dark] .colab-df-convert:hover {\n",
              "      background-color: #434B5C;\n",
              "      box-shadow: 0px 1px 3px 1px rgba(0, 0, 0, 0.15);\n",
              "      filter: drop-shadow(0px 1px 2px rgba(0, 0, 0, 0.3));\n",
              "      fill: #FFFFFF;\n",
              "    }\n",
              "  </style>\n",
              "\n",
              "      <script>\n",
              "        const buttonEl =\n",
              "          document.querySelector('#df-3aff1d2f-763f-43cb-937b-3ea097b7da4c button.colab-df-convert');\n",
              "        buttonEl.style.display =\n",
              "          google.colab.kernel.accessAllowed ? 'block' : 'none';\n",
              "\n",
              "        async function convertToInteractive(key) {\n",
              "          const element = document.querySelector('#df-3aff1d2f-763f-43cb-937b-3ea097b7da4c');\n",
              "          const dataTable =\n",
              "            await google.colab.kernel.invokeFunction('convertToInteractive',\n",
              "                                                     [key], {});\n",
              "          if (!dataTable) return;\n",
              "\n",
              "          const docLinkHtml = 'Like what you see? Visit the ' +\n",
              "            '<a target=\"_blank\" href=https://colab.research.google.com/notebooks/data_table.ipynb>data table notebook</a>'\n",
              "            + ' to learn more about interactive tables.';\n",
              "          element.innerHTML = '';\n",
              "          dataTable['output_type'] = 'display_data';\n",
              "          await google.colab.output.renderOutput(dataTable, element);\n",
              "          const docLink = document.createElement('div');\n",
              "          docLink.innerHTML = docLinkHtml;\n",
              "          element.appendChild(docLink);\n",
              "        }\n",
              "      </script>\n",
              "    </div>\n",
              "  </div>\n",
              "  "
            ]
          },
          "metadata": {},
          "execution_count": 61
        }
      ]
    },
    {
      "cell_type": "code",
      "source": [
        "dados_saida['Hora'].hist()\n",
        "plt.title(\"Horários de saída nas residências\")\n",
        "plt.show()"
      ],
      "metadata": {
        "colab": {
          "base_uri": "https://localhost:8080/"
        },
        "id": "Px5wU2Hk4BRg",
        "outputId": "d49462a3-a0fd-448f-ef2b-8e192bca9719"
      },
      "execution_count": null,
      "outputs": [
        {
          "output_type": "display_data",
          "data": {
            "text/plain": [
              "<Figure size 432x288 with 1 Axes>"
            ],
            "image/png": "[encoded data removed]"
          },
          "metadata": {
            "needs_background": "light"
          }
        }
      ]
    },
    {
      "cell_type": "code",
      "source": [
        "dados_saida['dia_semana'].hist()\n",
        "plt.title(\"Dias da semana de saída nas residências, (0: Domingo, 6:Sábado)\")\n",
        "plt.show()"
      ],
      "metadata": {
        "colab": {
          "base_uri": "https://localhost:8080/"
        },
        "id": "gtKWxixHP563",
        "outputId": "925f3e75-db51-4a3f-9908-c9f04a51ff76"
      },
      "execution_count": null,
      "outputs": [
        {
          "output_type": "display_data",
          "data": {
            "text/plain": [
              "<Figure size 432x288 with 1 Axes>"
            ],
            "image/png": "[encoded data removed]"
          },
          "metadata": {
            "needs_background": "light"
          }
        }
      ]
    },
    {
      "cell_type": "markdown",
      "source": [
        "### Outliers"
      ],
      "metadata": {
        "id": "m4HKdpGY-5f_"
      }
    },
    {
      "cell_type": "code",
      "source": [
        "dados_entrada.shape"
      ],
      "metadata": {
        "colab": {
          "base_uri": "https://localhost:8080/"
        },
        "id": "FzS7yqjL_PPu",
        "outputId": "dfe3d5ca-1b6e-45bc-a458-defbd715ebc3"
      },
      "execution_count": null,
      "outputs": [
        {
          "output_type": "execute_result",
          "data": {
            "text/plain": [
              "(13005, 9)"
            ]
          },
          "metadata": {},
          "execution_count": 64
        }
      ]
    },
    {
      "cell_type": "code",
      "source": [
        "df_unico = dados_entrada"
      ],
      "metadata": {
        "id": "sumL60aX_HVv"
      },
      "execution_count": null,
      "outputs": []
    },
    {
      "cell_type": "code",
      "source": [
        "df_unico['std*1.96'] = 1.96*dados_entrada['Hora'].std()\n",
        "df_unico['Outlier'] = abs(dados_entrada['Hora'] - dados_entrada['Hora'].mean()) > df_unico['std*1.96']\n",
        "outliers_dados_entrada = dados_entrada.loc[dados_entrada['Outlier'] == True]\n",
        "df_unico['Outlier'].value_counts()[False]"
      ],
      "metadata": {
        "colab": {
          "base_uri": "https://localhost:8080/"
        },
        "id": "bzPO2m-Q-4to",
        "outputId": "65bcaa87-a2e9-45c3-f2e2-35194a4be193"
      },
      "execution_count": null,
      "outputs": [
        {
          "output_type": "stream",
          "name": "stderr",
          "text": [
            "/usr/local/lib/python3.7/dist-packages/ipykernel_launcher.py:1: SettingWithCopyWarning: \n",
            "A value is trying to be set on a copy of a slice from a DataFrame.\n",
            "Try using .loc[row_indexer,col_indexer] = value instead\n",
            "\n",
            "See the caveats in the documentation: https://pandas.pydata.org/pandas-docs/stable/user_guide/indexing.html#returning-a-view-versus-a-copy\n",
            "  \"\"\"Entry point for launching an IPython kernel.\n",
            "/usr/local/lib/python3.7/dist-packages/ipykernel_launcher.py:2: SettingWithCopyWarning: \n",
            "A value is trying to be set on a copy of a slice from a DataFrame.\n",
            "Try using .loc[row_indexer,col_indexer] = value instead\n",
            "\n",
            "See the caveats in the documentation: https://pandas.pydata.org/pandas-docs/stable/user_guide/indexing.html#returning-a-view-versus-a-copy\n",
            "  \n"
          ]
        },
        {
          "output_type": "execute_result",
          "data": {
            "text/plain": [
              "13005"
            ]
          },
          "metadata": {},
          "execution_count": 66
        }
      ]
    },
    {
      "cell_type": "code",
      "source": [
        "dados_saida.shape"
      ],
      "metadata": {
        "colab": {
          "base_uri": "https://localhost:8080/"
        },
        "id": "SLt-FQzEAPwW",
        "outputId": "5a1eddd0-bfd9-457a-bc18-164eb5c149da"
      },
      "execution_count": null,
      "outputs": [
        {
          "output_type": "execute_result",
          "data": {
            "text/plain": [
              "(13009, 9)"
            ]
          },
          "metadata": {},
          "execution_count": 67
        }
      ]
    },
    {
      "cell_type": "code",
      "source": [
        "df_unico = dados_saida\n",
        "df_unico['std*1.96'] = 1.96*dados_saida['Hora'].std()\n",
        "df_unico['Outlier'] = abs(dados_saida['Hora'] - dados_saida['Hora'].mean()) > df_unico['std*1.96']\n",
        "outliers_dados_saida = dados_saida.loc[dados_saida['Outlier'] == True]\n",
        "df_unico['Outlier'].value_counts()[False]"
      ],
      "metadata": {
        "colab": {
          "base_uri": "https://localhost:8080/"
        },
        "id": "c2nWYLdJACnY",
        "outputId": "72d07101-aa58-40c7-b5d0-1e42e551751d"
      },
      "execution_count": null,
      "outputs": [
        {
          "output_type": "stream",
          "name": "stderr",
          "text": [
            "/usr/local/lib/python3.7/dist-packages/ipykernel_launcher.py:2: SettingWithCopyWarning: \n",
            "A value is trying to be set on a copy of a slice from a DataFrame.\n",
            "Try using .loc[row_indexer,col_indexer] = value instead\n",
            "\n",
            "See the caveats in the documentation: https://pandas.pydata.org/pandas-docs/stable/user_guide/indexing.html#returning-a-view-versus-a-copy\n",
            "  \n",
            "/usr/local/lib/python3.7/dist-packages/ipykernel_launcher.py:3: SettingWithCopyWarning: \n",
            "A value is trying to be set on a copy of a slice from a DataFrame.\n",
            "Try using .loc[row_indexer,col_indexer] = value instead\n",
            "\n",
            "See the caveats in the documentation: https://pandas.pydata.org/pandas-docs/stable/user_guide/indexing.html#returning-a-view-versus-a-copy\n",
            "  This is separate from the ipykernel package so we can avoid doing imports until\n"
          ]
        },
        {
          "output_type": "execute_result",
          "data": {
            "text/plain": [
              "13009"
            ]
          },
          "metadata": {},
          "execution_count": 68
        }
      ]
    },
    {
      "cell_type": "code",
      "source": [
        "#df[(np.abs(stats.zscore(df['price']))>3)]"
      ],
      "metadata": {
        "id": "a_72bOAoSpG-"
      },
      "execution_count": null,
      "outputs": []
    },
    {
      "cell_type": "markdown",
      "source": [
        "### Gráficos séries temporais"
      ],
      "metadata": {
        "id": "_Zo5JheovQ3S"
      }
    },
    {
      "cell_type": "code",
      "source": [
        "melissa_garden = df_portaria.loc[df_portaria['Nome_condominio'] == 'Melissa Garden']\n",
        "melissa_garden_analises = melissa_garden[['Data_Movimentacao', 'Nome_condominio']]\n",
        "melissa_garden_analises.set_index('Data_Movimentacao', inplace = True)\n",
        "dados_melissa_garden_agg = melissa_garden_analises.groupby(pd.Grouper(freq='M')).count()\n",
        "dados_melissa_garden_agg.plot()\n",
        "plt.title('Movimentação últimos meses condomínio Melissa Garden')\n",
        "plt.show()"
      ],
      "metadata": {
        "colab": {
          "base_uri": "https://localhost:8080/",
          "height": 308
        },
        "id": "wpHgOaDVOJIp",
        "outputId": "be757a24-c842-4d11-dfb1-e7649d88ea96"
      },
      "execution_count": null,
      "outputs": [
        {
          "output_type": "display_data",
          "data": {
            "text/plain": [
              "<Figure size 432x288 with 1 Axes>"
            ],
            "image/png": "[encoded data removed]"
          },
          "metadata": {
            "needs_background": "light"
          }
        }
      ]
    },
    {
      "cell_type": "code",
      "source": [
        "flowers_queen = df_portaria.loc[df_portaria['Nome_condominio'] == 'Flowers Queen']\n",
        "flowers_queen_analises = flowers_queen[['Data_Movimentacao', 'Nome_condominio']]\n",
        "flowers_queen_analises.set_index('Data_Movimentacao', inplace = True)\n",
        "dados_flowers_queen_agg = flowers_queen_analises.groupby(pd.Grouper(freq='M')).count()\n",
        "dados_flowers_queen_agg.plot()\n",
        "plt.title('Movimentação condomínio Flowers Queen últimos meses')\n",
        "plt.show()"
      ],
      "metadata": {
        "colab": {
          "base_uri": "https://localhost:8080/",
          "height": 308
        },
        "id": "LjPq3h4tyJtt",
        "outputId": "e6ba2484-b541-48c0-cf00-14b8b1a36512"
      },
      "execution_count": null,
      "outputs": [
        {
          "output_type": "display_data",
          "data": {
            "text/plain": [
              "<Figure size 432x288 with 1 Axes>"
            ],
            "image/png": "[encoded data removed]"
          },
          "metadata": {
            "needs_background": "light"
          }
        }
      ]
    },
    {
      "cell_type": "code",
      "source": [
        "caminhao = df_portaria.loc[df_portaria['Tipo Veículo'] == 'Caminhão']"
      ],
      "metadata": {
        "id": "fLNHNy8ZPr8d"
      },
      "execution_count": null,
      "outputs": []
    },
    {
      "cell_type": "code",
      "source": [
        "caminhao_analises = caminhao[['Data_Movimentacao', 'Tipo Veículo']]\n",
        "caminhao_analises.set_index('Data_Movimentacao', inplace = True)\n",
        "dados_caminhao_agg = caminhao_analises.groupby(pd.Grouper(freq='M')).count()\n",
        "dados_caminhao_agg.plot()\n",
        "plt.title('Uso de caminhão nos últimos meses')\n",
        "plt.show()"
      ],
      "metadata": {
        "colab": {
          "base_uri": "https://localhost:8080/",
          "height": 308
        },
        "id": "z77X_Kb9Q1nw",
        "outputId": "b61fc429-498f-44a4-9687-494b17f7442f"
      },
      "execution_count": null,
      "outputs": [
        {
          "output_type": "display_data",
          "data": {
            "text/plain": [
              "<Figure size 432x288 with 1 Axes>"
            ],
            "image/png": "[encoded data removed]"
          },
          "metadata": {
            "needs_background": "light"
          }
        }
      ]
    },
    {
      "cell_type": "code",
      "source": [
        "automovel = df_portaria.loc[df_portaria['Tipo Veículo'] == 'Automóvel']\n",
        "automovel_analises = automovel[['Data_Movimentacao', 'Tipo Veículo']]\n",
        "automovel_analises.set_index('Data_Movimentacao', inplace = True)\n",
        "dados_automovel_agg = automovel_analises.groupby(pd.Grouper(freq='M')).count()\n",
        "dados_automovel_agg.plot()\n",
        "plt.title('Uso de automóvel nos últimos meses')\n",
        "plt.show()"
      ],
      "metadata": {
        "colab": {
          "base_uri": "https://localhost:8080/",
          "height": 308
        },
        "id": "qftNpVfKR7Ty",
        "outputId": "bbffffa5-7988-4672-8ff1-5c00428676f0"
      },
      "execution_count": null,
      "outputs": [
        {
          "output_type": "display_data",
          "data": {
            "text/plain": [
              "<Figure size 432x288 with 1 Axes>"
            ],
            "image/png": "[encoded data removed]"
          },
          "metadata": {
            "needs_background": "light"
          }
        }
      ]
    },
    {
      "cell_type": "code",
      "source": [
        "moto = df_portaria.loc[df_portaria['Tipo Veículo'] == 'Motocicleta']\n",
        "moto_analises = moto[['Data_Movimentacao', 'Tipo Veículo']]\n",
        "moto_analises.set_index('Data_Movimentacao', inplace = True)\n",
        "dados_moto_agg = moto_analises.groupby(pd.Grouper(freq='M')).count()\n",
        "dados_moto_agg.plot()\n",
        "plt.title('Motocicleta')\n",
        "plt.show()"
      ],
      "metadata": {
        "colab": {
          "base_uri": "https://localhost:8080/",
          "height": 308
        },
        "id": "7_eQkhbby3Qb",
        "outputId": "3cd8a681-1d13-444b-c471-ce0444675558"
      },
      "execution_count": null,
      "outputs": [
        {
          "output_type": "display_data",
          "data": {
            "text/plain": [
              "<Figure size 432x288 with 1 Axes>"
            ],
            "image/png": "[encoded data removed]"
          },
          "metadata": {
            "needs_background": "light"
          }
        }
      ]
    },
    {
      "cell_type": "code",
      "source": [
        "dias_semana = ['Domingo', 'Segunda-Feira', 'Terça-Feira', 'Quarta-Feira', 'Quinta-Feira', 'Sexta-Feira', 'Sábado']\n",
        "for i in range(len(dias_semana)):\n",
        "  flowers_queen = df_portaria.loc[df_portaria['dia_semana'] == i]\n",
        "  flowers_queen_analises = flowers_queen[['Data_Movimentacao', 'dia_semana']]\n",
        "  flowers_queen_analises.set_index('Data_Movimentacao', inplace = True)\n",
        "  dados_flowers_queen_agg = flowers_queen_analises.groupby(pd.Grouper(freq='M')).count()\n",
        "  dados_flowers_queen_agg.plot()\n",
        "  plt.title('Movimentação {} nos últimos meses'.format(dias_semana[i]))\n",
        "  plt.show()"
      ],
      "metadata": {
        "colab": {
          "base_uri": "https://localhost:8080/",
          "height": 1000
        },
        "id": "FiTba8FK4A3C",
        "outputId": "c716a82b-5040-4359-d99c-29baca770d36"
      },
      "execution_count": null,
      "outputs": [
        {
          "output_type": "display_data",
          "data": {
            "text/plain": [
              "<Figure size 432x288 with 1 Axes>"
            ],
            "image/png": "[encoded data removed]"
          },
          "metadata": {
            "needs_background": "light"
          }
        },
        {
          "output_type": "display_data",
          "data": {
            "text/plain": [
              "<Figure size 432x288 with 1 Axes>"
            ],
            "image/png": "[encoded data removed]"
          },
          "metadata": {
            "needs_background": "light"
          }
        },
        {
          "output_type": "display_data",
          "data": {
            "text/plain": [
              "<Figure size 432x288 with 1 Axes>"
            ],
            "image/png": "[encoded data removed]"
          },
          "metadata": {
            "needs_background": "light"
          }
        },
        {
          "output_type": "display_data",
          "data": {
            "text/plain": [
              "<Figure size 432x288 with 1 Axes>"
            ],
            "image/png": "[encoded data removed]"
          },
          "metadata": {
            "needs_background": "light"
          }
        },
        {
          "output_type": "display_data",
          "data": {
            "text/plain": [
              "<Figure size 432x288 with 1 Axes>"
            ],
            "image/png": "[encoded data removed]"
          },
          "metadata": {
            "needs_background": "light"
          }
        },
        {
          "output_type": "display_data",
          "data": {
            "text/plain": [
              "<Figure size 432x288 with 1 Axes>"
            ],
            "image/png": "[encoded data removed]"
          },
          "metadata": {
            "needs_background": "light"
          }
        },
        {
          "output_type": "display_data",
          "data": {
            "text/plain": [
              "<Figure size 432x288 with 1 Axes>"
            ],
            "image/png": "[encoded data removed]"
          },
          "metadata": {
            "needs_background": "light"
          }
        }
      ]
    },
    {
      "cell_type": "markdown",
      "source": [
        "### Verificando uma moradia em específica"
      ],
      "metadata": {
        "id": "tu3mx4rdvgIa"
      }
    },
    {
      "cell_type": "code",
      "source": [
        "casa1 = df_portaria.loc[df_portaria['nr_lote'] == 209]\n",
        "casa1"
      ],
      "metadata": {
        "id": "YhgTyvyaq58S",
        "colab": {
          "base_uri": "https://localhost:8080/",
          "height": 424
        },
        "outputId": "dcdb5527-b66d-4229-83d7-ae1eaa4cdf73"
      },
      "execution_count": null,
      "outputs": [
        {
          "output_type": "execute_result",
          "data": {
            "text/plain": [
              "       nr_movimento  nr_condominio Nome_condominio  nr_lote Tipo Veículo  \\\n",
              "0          19876212             12  Melissa Garden      209    Automóvel   \n",
              "14         19876226             12  Melissa Garden      209    Automóvel   \n",
              "82         19876294             12  Melissa Garden      209    Automóvel   \n",
              "236        19876448             12  Melissa Garden      209    Automóvel   \n",
              "250        19876462             12  Melissa Garden      209    Automóvel   \n",
              "...             ...            ...             ...      ...          ...   \n",
              "22422      19987013             12  Melissa Garden      209    Automóvel   \n",
              "22582      19987173             12  Melissa Garden      209    Automóvel   \n",
              "22735      19987326             12  Melissa Garden      209    Automóvel   \n",
              "23006      19987597             12  Melissa Garden      209    Automóvel   \n",
              "23076      19987667             12  Melissa Garden      209    Automóvel   \n",
              "\n",
              "      Data_Movimentacao  Hora entrada_saida  dia_semana  \n",
              "0            2021-10-12    11         Saída           1  \n",
              "14           2022-02-10     9         Saída           3  \n",
              "82           2022-04-04    11         Saída           0  \n",
              "236          2021-10-05     9         Saída           1  \n",
              "250          2022-03-15     9         Saída           1  \n",
              "...                 ...   ...           ...         ...  \n",
              "22422        2022-01-10    19       Entrada           0  \n",
              "22582        2021-11-05    21       Entrada           4  \n",
              "22735        2021-10-30    20       Entrada           5  \n",
              "23006        2021-11-13    19       Entrada           5  \n",
              "23076        2022-02-28    19       Entrada           0  \n",
              "\n",
              "[88 rows x 9 columns]"
            ],
            "text/html": [
              "\n",
              "  <div id=\"df-927b4790-95f5-4942-a7f9-bee817e07a3c\">\n",
              "    <div class=\"colab-df-container\">\n",
              "      <div>\n",
              "<style scoped>\n",
              "    .dataframe tbody tr th:only-of-type {\n",
              "        vertical-align: middle;\n",
              "    }\n",
              "\n",
              "    .dataframe tbody tr th {\n",
              "        vertical-align: top;\n",
              "    }\n",
              "\n",
              "    .dataframe thead th {\n",
              "        text-align: right;\n",
              "    }\n",
              "</style>\n",
              "<table border=\"1\" class=\"dataframe\">\n",
              "  <thead>\n",
              "    <tr style=\"text-align: right;\">\n",
              "      <th></th>\n",
              "      <th>nr_movimento</th>\n",
              "      <th>nr_condominio</th>\n",
              "      <th>Nome_condominio</th>\n",
              "      <th>nr_lote</th>\n",
              "      <th>Tipo Veículo</th>\n",
              "      <th>Data_Movimentacao</th>\n",
              "      <th>Hora</th>\n",
              "      <th>entrada_saida</th>\n",
              "      <th>dia_semana</th>\n",
              "    </tr>\n",
              "  </thead>\n",
              "  <tbody>\n",
              "    <tr>\n",
              "      <th>0</th>\n",
              "      <td>19876212</td>\n",
              "      <td>12</td>\n",
              "      <td>Melissa Garden</td>\n",
              "      <td>209</td>\n",
              "      <td>Automóvel</td>\n",
              "      <td>2021-10-12</td>\n",
              "      <td>11</td>\n",
              "      <td>Saída</td>\n",
              "      <td>1</td>\n",
              "    </tr>\n",
              "    <tr>\n",
              "      <th>14</th>\n",
              "      <td>19876226</td>\n",
              "      <td>12</td>\n",
              "      <td>Melissa Garden</td>\n",
              "      <td>209</td>\n",
              "      <td>Automóvel</td>\n",
              "      <td>2022-02-10</td>\n",
              "      <td>9</td>\n",
              "      <td>Saída</td>\n",
              "      <td>3</td>\n",
              "    </tr>\n",
              "    <tr>\n",
              "      <th>82</th>\n",
              "      <td>19876294</td>\n",
              "      <td>12</td>\n",
              "      <td>Melissa Garden</td>\n",
              "      <td>209</td>\n",
              "      <td>Automóvel</td>\n",
              "      <td>2022-04-04</td>\n",
              "      <td>11</td>\n",
              "      <td>Saída</td>\n",
              "      <td>0</td>\n",
              "    </tr>\n",
              "    <tr>\n",
              "      <th>236</th>\n",
              "      <td>19876448</td>\n",
              "      <td>12</td>\n",
              "      <td>Melissa Garden</td>\n",
              "      <td>209</td>\n",
              "      <td>Automóvel</td>\n",
              "      <td>2021-10-05</td>\n",
              "      <td>9</td>\n",
              "      <td>Saída</td>\n",
              "      <td>1</td>\n",
              "    </tr>\n",
              "    <tr>\n",
              "      <th>250</th>\n",
              "      <td>19876462</td>\n",
              "      <td>12</td>\n",
              "      <td>Melissa Garden</td>\n",
              "      <td>209</td>\n",
              "      <td>Automóvel</td>\n",
              "      <td>2022-03-15</td>\n",
              "      <td>9</td>\n",
              "      <td>Saída</td>\n",
              "      <td>1</td>\n",
              "    </tr>\n",
              "    <tr>\n",
              "      <th>...</th>\n",
              "      <td>...</td>\n",
              "      <td>...</td>\n",
              "      <td>...</td>\n",
              "      <td>...</td>\n",
              "      <td>...</td>\n",
              "      <td>...</td>\n",
              "      <td>...</td>\n",
              "      <td>...</td>\n",
              "      <td>...</td>\n",
              "    </tr>\n",
              "    <tr>\n",
              "      <th>22422</th>\n",
              "      <td>19987013</td>\n",
              "      <td>12</td>\n",
              "      <td>Melissa Garden</td>\n",
              "      <td>209</td>\n",
              "      <td>Automóvel</td>\n",
              "      <td>2022-01-10</td>\n",
              "      <td>19</td>\n",
              "      <td>Entrada</td>\n",
              "      <td>0</td>\n",
              "    </tr>\n",
              "    <tr>\n",
              "      <th>22582</th>\n",
              "      <td>19987173</td>\n",
              "      <td>12</td>\n",
              "      <td>Melissa Garden</td>\n",
              "      <td>209</td>\n",
              "      <td>Automóvel</td>\n",
              "      <td>2021-11-05</td>\n",
              "      <td>21</td>\n",
              "      <td>Entrada</td>\n",
              "      <td>4</td>\n",
              "    </tr>\n",
              "    <tr>\n",
              "      <th>22735</th>\n",
              "      <td>19987326</td>\n",
              "      <td>12</td>\n",
              "      <td>Melissa Garden</td>\n",
              "      <td>209</td>\n",
              "      <td>Automóvel</td>\n",
              "      <td>2021-10-30</td>\n",
              "      <td>20</td>\n",
              "      <td>Entrada</td>\n",
              "      <td>5</td>\n",
              "    </tr>\n",
              "    <tr>\n",
              "      <th>23006</th>\n",
              "      <td>19987597</td>\n",
              "      <td>12</td>\n",
              "      <td>Melissa Garden</td>\n",
              "      <td>209</td>\n",
              "      <td>Automóvel</td>\n",
              "      <td>2021-11-13</td>\n",
              "      <td>19</td>\n",
              "      <td>Entrada</td>\n",
              "      <td>5</td>\n",
              "    </tr>\n",
              "    <tr>\n",
              "      <th>23076</th>\n",
              "      <td>19987667</td>\n",
              "      <td>12</td>\n",
              "      <td>Melissa Garden</td>\n",
              "      <td>209</td>\n",
              "      <td>Automóvel</td>\n",
              "      <td>2022-02-28</td>\n",
              "      <td>19</td>\n",
              "      <td>Entrada</td>\n",
              "      <td>0</td>\n",
              "    </tr>\n",
              "  </tbody>\n",
              "</table>\n",
              "<p>88 rows × 9 columns</p>\n",
              "</div>\n",
              "      <button class=\"colab-df-convert\" onclick=\"convertToInteractive('df-927b4790-95f5-4942-a7f9-bee817e07a3c')\"\n",
              "              title=\"Convert this dataframe to an interactive table.\"\n",
              "              style=\"display:none;\">\n",
              "        \n",
              "  <svg xmlns=\"http://www.w3.org/2000/svg\" height=\"24px\"viewBox=\"0 0 24 24\"\n",
              "       width=\"24px\">\n",
              "    <path d=\"M0 0h24v24H0V0z\" fill=\"none\"/>\n",
              "    <path d=\"M18.56 5.44l.94 2.06.94-2.06 2.06-.94-2.06-.94-.94-2.06-.94 2.06-2.06.94zm-11 1L8.5 8.5l.94-2.06 2.06-.94-2.06-.94L8.5 2.5l-.94 2.06-2.06.94zm10 10l.94 2.06.94-2.06 2.06-.94-2.06-.94-.94-2.06-.94 2.06-2.06.94z\"/><path d=\"M17.41 7.96l-1.37-1.37c-.4-.4-.92-.59-1.43-.59-.52 0-1.04.2-1.43.59L10.3 9.45l-7.72 7.72c-.78.78-.78 2.05 0 2.83L4 21.41c.39.39.9.59 1.41.59.51 0 1.02-.2 1.41-.59l7.78-7.78 2.81-2.81c.8-.78.8-2.07 0-2.86zM5.41 20L4 18.59l7.72-7.72 1.47 1.35L5.41 20z\"/>\n",
              "  </svg>\n",
              "      </button>\n",
              "      \n",
              "  <style>\n",
              "    .colab-df-container {\n",
              "      display:flex;\n",
              "      flex-wrap:wrap;\n",
              "      gap: 12px;\n",
              "    }\n",
              "\n",
              "    .colab-df-convert {\n",
              "      background-color: #E8F0FE;\n",
              "      border: none;\n",
              "      border-radius: 50%;\n",
              "      cursor: pointer;\n",
              "      display: none;\n",
              "      fill: #1967D2;\n",
              "      height: 32px;\n",
              "      padding: 0 0 0 0;\n",
              "      width: 32px;\n",
              "    }\n",
              "\n",
              "    .colab-df-convert:hover {\n",
              "      background-color: #E2EBFA;\n",
              "      box-shadow: 0px 1px 2px rgba(60, 64, 67, 0.3), 0px 1px 3px 1px rgba(60, 64, 67, 0.15);\n",
              "      fill: #174EA6;\n",
              "    }\n",
              "\n",
              "    [theme=dark] .colab-df-convert {\n",
              "      background-color: #3B4455;\n",
              "      fill: #D2E3FC;\n",
              "    }\n",
              "\n",
              "    [theme=dark] .colab-df-convert:hover {\n",
              "      background-color: #434B5C;\n",
              "      box-shadow: 0px 1px 3px 1px rgba(0, 0, 0, 0.15);\n",
              "      filter: drop-shadow(0px 1px 2px rgba(0, 0, 0, 0.3));\n",
              "      fill: #FFFFFF;\n",
              "    }\n",
              "  </style>\n",
              "\n",
              "      <script>\n",
              "        const buttonEl =\n",
              "          document.querySelector('#df-927b4790-95f5-4942-a7f9-bee817e07a3c button.colab-df-convert');\n",
              "        buttonEl.style.display =\n",
              "          google.colab.kernel.accessAllowed ? 'block' : 'none';\n",
              "\n",
              "        async function convertToInteractive(key) {\n",
              "          const element = document.querySelector('#df-927b4790-95f5-4942-a7f9-bee817e07a3c');\n",
              "          const dataTable =\n",
              "            await google.colab.kernel.invokeFunction('convertToInteractive',\n",
              "                                                     [key], {});\n",
              "          if (!dataTable) return;\n",
              "\n",
              "          const docLinkHtml = 'Like what you see? Visit the ' +\n",
              "            '<a target=\"_blank\" href=https://colab.research.google.com/notebooks/data_table.ipynb>data table notebook</a>'\n",
              "            + ' to learn more about interactive tables.';\n",
              "          element.innerHTML = '';\n",
              "          dataTable['output_type'] = 'display_data';\n",
              "          await google.colab.output.renderOutput(dataTable, element);\n",
              "          const docLink = document.createElement('div');\n",
              "          docLink.innerHTML = docLinkHtml;\n",
              "          element.appendChild(docLink);\n",
              "        }\n",
              "      </script>\n",
              "    </div>\n",
              "  </div>\n",
              "  "
            ]
          },
          "metadata": {},
          "execution_count": 77
        }
      ]
    },
    {
      "cell_type": "code",
      "source": [
        "casa1.sort_values(by=['Data_Movimentacao', 'Hora'])"
      ],
      "metadata": {
        "colab": {
          "base_uri": "https://localhost:8080/",
          "height": 424
        },
        "id": "UfQS9J_2kttQ",
        "outputId": "7db05539-49cf-4f6c-a4c7-9da98bcbbd6a"
      },
      "execution_count": null,
      "outputs": [
        {
          "output_type": "execute_result",
          "data": {
            "text/plain": [
              "       nr_movimento  nr_condominio Nome_condominio  nr_lote Tipo Veículo  \\\n",
              "3152       19879364             12  Melissa Garden      209    Automóvel   \n",
              "16223      19980814             12  Melissa Garden      209    Automóvel   \n",
              "236        19876448             12  Melissa Garden      209    Automóvel   \n",
              "13307      19977898             12  Melissa Garden      209    Automóvel   \n",
              "6401       19882613             12  Melissa Garden      209    Automóvel   \n",
              "...             ...            ...             ...      ...          ...   \n",
              "17247      19981838             12  Melissa Garden      209    Automóvel   \n",
              "610        19876822             12  Melissa Garden      209    Automóvel   \n",
              "13681      19978272             12  Melissa Garden      209    Automóvel   \n",
              "5729       19881941             12  Melissa Garden      209    Automóvel   \n",
              "18800      19983391             12  Melissa Garden      209    Automóvel   \n",
              "\n",
              "      Data_Movimentacao  Hora entrada_saida  dia_semana  \n",
              "3152         2021-10-04     8         Saída           0  \n",
              "16223        2021-10-04    19       Entrada           0  \n",
              "236          2021-10-05     9         Saída           1  \n",
              "13307        2021-10-05    19       Entrada           1  \n",
              "6401         2021-10-08     7         Saída           4  \n",
              "...                 ...   ...           ...         ...  \n",
              "17247        2022-04-15    17       Entrada           4  \n",
              "610          2022-04-21     9         Saída           3  \n",
              "13681        2022-04-21    17       Entrada           3  \n",
              "5729         2022-04-26     7         Saída           1  \n",
              "18800        2022-04-26    21       Entrada           1  \n",
              "\n",
              "[88 rows x 9 columns]"
            ],
            "text/html": [
              "\n",
              "  <div id=\"df-036f57c6-4f08-400b-984c-b7c1f386acb4\">\n",
              "    <div class=\"colab-df-container\">\n",
              "      <div>\n",
              "<style scoped>\n",
              "    .dataframe tbody tr th:only-of-type {\n",
              "        vertical-align: middle;\n",
              "    }\n",
              "\n",
              "    .dataframe tbody tr th {\n",
              "        vertical-align: top;\n",
              "    }\n",
              "\n",
              "    .dataframe thead th {\n",
              "        text-align: right;\n",
              "    }\n",
              "</style>\n",
              "<table border=\"1\" class=\"dataframe\">\n",
              "  <thead>\n",
              "    <tr style=\"text-align: right;\">\n",
              "      <th></th>\n",
              "      <th>nr_movimento</th>\n",
              "      <th>nr_condominio</th>\n",
              "      <th>Nome_condominio</th>\n",
              "      <th>nr_lote</th>\n",
              "      <th>Tipo Veículo</th>\n",
              "      <th>Data_Movimentacao</th>\n",
              "      <th>Hora</th>\n",
              "      <th>entrada_saida</th>\n",
              "      <th>dia_semana</th>\n",
              "    </tr>\n",
              "  </thead>\n",
              "  <tbody>\n",
              "    <tr>\n",
              "      <th>3152</th>\n",
              "      <td>19879364</td>\n",
              "      <td>12</td>\n",
              "      <td>Melissa Garden</td>\n",
              "      <td>209</td>\n",
              "      <td>Automóvel</td>\n",
              "      <td>2021-10-04</td>\n",
              "      <td>8</td>\n",
              "      <td>Saída</td>\n",
              "      <td>0</td>\n",
              "    </tr>\n",
              "    <tr>\n",
              "      <th>16223</th>\n",
              "      <td>19980814</td>\n",
              "      <td>12</td>\n",
              "      <td>Melissa Garden</td>\n",
              "      <td>209</td>\n",
              "      <td>Automóvel</td>\n",
              "      <td>2021-10-04</td>\n",
              "      <td>19</td>\n",
              "      <td>Entrada</td>\n",
              "      <td>0</td>\n",
              "    </tr>\n",
              "    <tr>\n",
              "      <th>236</th>\n",
              "      <td>19876448</td>\n",
              "      <td>12</td>\n",
              "      <td>Melissa Garden</td>\n",
              "      <td>209</td>\n",
              "      <td>Automóvel</td>\n",
              "      <td>2021-10-05</td>\n",
              "      <td>9</td>\n",
              "      <td>Saída</td>\n",
              "      <td>1</td>\n",
              "    </tr>\n",
              "    <tr>\n",
              "      <th>13307</th>\n",
              "      <td>19977898</td>\n",
              "      <td>12</td>\n",
              "      <td>Melissa Garden</td>\n",
              "      <td>209</td>\n",
              "      <td>Automóvel</td>\n",
              "      <td>2021-10-05</td>\n",
              "      <td>19</td>\n",
              "      <td>Entrada</td>\n",
              "      <td>1</td>\n",
              "    </tr>\n",
              "    <tr>\n",
              "      <th>6401</th>\n",
              "      <td>19882613</td>\n",
              "      <td>12</td>\n",
              "      <td>Melissa Garden</td>\n",
              "      <td>209</td>\n",
              "      <td>Automóvel</td>\n",
              "      <td>2021-10-08</td>\n",
              "      <td>7</td>\n",
              "      <td>Saída</td>\n",
              "      <td>4</td>\n",
              "    </tr>\n",
              "    <tr>\n",
              "      <th>...</th>\n",
              "      <td>...</td>\n",
              "      <td>...</td>\n",
              "      <td>...</td>\n",
              "      <td>...</td>\n",
              "      <td>...</td>\n",
              "      <td>...</td>\n",
              "      <td>...</td>\n",
              "      <td>...</td>\n",
              "      <td>...</td>\n",
              "    </tr>\n",
              "    <tr>\n",
              "      <th>17247</th>\n",
              "      <td>19981838</td>\n",
              "      <td>12</td>\n",
              "      <td>Melissa Garden</td>\n",
              "      <td>209</td>\n",
              "      <td>Automóvel</td>\n",
              "      <td>2022-04-15</td>\n",
              "      <td>17</td>\n",
              "      <td>Entrada</td>\n",
              "      <td>4</td>\n",
              "    </tr>\n",
              "    <tr>\n",
              "      <th>610</th>\n",
              "      <td>19876822</td>\n",
              "      <td>12</td>\n",
              "      <td>Melissa Garden</td>\n",
              "      <td>209</td>\n",
              "      <td>Automóvel</td>\n",
              "      <td>2022-04-21</td>\n",
              "      <td>9</td>\n",
              "      <td>Saída</td>\n",
              "      <td>3</td>\n",
              "    </tr>\n",
              "    <tr>\n",
              "      <th>13681</th>\n",
              "      <td>19978272</td>\n",
              "      <td>12</td>\n",
              "      <td>Melissa Garden</td>\n",
              "      <td>209</td>\n",
              "      <td>Automóvel</td>\n",
              "      <td>2022-04-21</td>\n",
              "      <td>17</td>\n",
              "      <td>Entrada</td>\n",
              "      <td>3</td>\n",
              "    </tr>\n",
              "    <tr>\n",
              "      <th>5729</th>\n",
              "      <td>19881941</td>\n",
              "      <td>12</td>\n",
              "      <td>Melissa Garden</td>\n",
              "      <td>209</td>\n",
              "      <td>Automóvel</td>\n",
              "      <td>2022-04-26</td>\n",
              "      <td>7</td>\n",
              "      <td>Saída</td>\n",
              "      <td>1</td>\n",
              "    </tr>\n",
              "    <tr>\n",
              "      <th>18800</th>\n",
              "      <td>19983391</td>\n",
              "      <td>12</td>\n",
              "      <td>Melissa Garden</td>\n",
              "      <td>209</td>\n",
              "      <td>Automóvel</td>\n",
              "      <td>2022-04-26</td>\n",
              "      <td>21</td>\n",
              "      <td>Entrada</td>\n",
              "      <td>1</td>\n",
              "    </tr>\n",
              "  </tbody>\n",
              "</table>\n",
              "<p>88 rows × 9 columns</p>\n",
              "</div>\n",
              "      <button class=\"colab-df-convert\" onclick=\"convertToInteractive('df-036f57c6-4f08-400b-984c-b7c1f386acb4')\"\n",
              "              title=\"Convert this dataframe to an interactive table.\"\n",
              "              style=\"display:none;\">\n",
              "        \n",
              "  <svg xmlns=\"http://www.w3.org/2000/svg\" height=\"24px\"viewBox=\"0 0 24 24\"\n",
              "       width=\"24px\">\n",
              "    <path d=\"M0 0h24v24H0V0z\" fill=\"none\"/>\n",
              "    <path d=\"M18.56 5.44l.94 2.06.94-2.06 2.06-.94-2.06-.94-.94-2.06-.94 2.06-2.06.94zm-11 1L8.5 8.5l.94-2.06 2.06-.94-2.06-.94L8.5 2.5l-.94 2.06-2.06.94zm10 10l.94 2.06.94-2.06 2.06-.94-2.06-.94-.94-2.06-.94 2.06-2.06.94z\"/><path d=\"M17.41 7.96l-1.37-1.37c-.4-.4-.92-.59-1.43-.59-.52 0-1.04.2-1.43.59L10.3 9.45l-7.72 7.72c-.78.78-.78 2.05 0 2.83L4 21.41c.39.39.9.59 1.41.59.51 0 1.02-.2 1.41-.59l7.78-7.78 2.81-2.81c.8-.78.8-2.07 0-2.86zM5.41 20L4 18.59l7.72-7.72 1.47 1.35L5.41 20z\"/>\n",
              "  </svg>\n",
              "      </button>\n",
              "      \n",
              "  <style>\n",
              "    .colab-df-container {\n",
              "      display:flex;\n",
              "      flex-wrap:wrap;\n",
              "      gap: 12px;\n",
              "    }\n",
              "\n",
              "    .colab-df-convert {\n",
              "      background-color: #E8F0FE;\n",
              "      border: none;\n",
              "      border-radius: 50%;\n",
              "      cursor: pointer;\n",
              "      display: none;\n",
              "      fill: #1967D2;\n",
              "      height: 32px;\n",
              "      padding: 0 0 0 0;\n",
              "      width: 32px;\n",
              "    }\n",
              "\n",
              "    .colab-df-convert:hover {\n",
              "      background-color: #E2EBFA;\n",
              "      box-shadow: 0px 1px 2px rgba(60, 64, 67, 0.3), 0px 1px 3px 1px rgba(60, 64, 67, 0.15);\n",
              "      fill: #174EA6;\n",
              "    }\n",
              "\n",
              "    [theme=dark] .colab-df-convert {\n",
              "      background-color: #3B4455;\n",
              "      fill: #D2E3FC;\n",
              "    }\n",
              "\n",
              "    [theme=dark] .colab-df-convert:hover {\n",
              "      background-color: #434B5C;\n",
              "      box-shadow: 0px 1px 3px 1px rgba(0, 0, 0, 0.15);\n",
              "      filter: drop-shadow(0px 1px 2px rgba(0, 0, 0, 0.3));\n",
              "      fill: #FFFFFF;\n",
              "    }\n",
              "  </style>\n",
              "\n",
              "      <script>\n",
              "        const buttonEl =\n",
              "          document.querySelector('#df-036f57c6-4f08-400b-984c-b7c1f386acb4 button.colab-df-convert');\n",
              "        buttonEl.style.display =\n",
              "          google.colab.kernel.accessAllowed ? 'block' : 'none';\n",
              "\n",
              "        async function convertToInteractive(key) {\n",
              "          const element = document.querySelector('#df-036f57c6-4f08-400b-984c-b7c1f386acb4');\n",
              "          const dataTable =\n",
              "            await google.colab.kernel.invokeFunction('convertToInteractive',\n",
              "                                                     [key], {});\n",
              "          if (!dataTable) return;\n",
              "\n",
              "          const docLinkHtml = 'Like what you see? Visit the ' +\n",
              "            '<a target=\"_blank\" href=https://colab.research.google.com/notebooks/data_table.ipynb>data table notebook</a>'\n",
              "            + ' to learn more about interactive tables.';\n",
              "          element.innerHTML = '';\n",
              "          dataTable['output_type'] = 'display_data';\n",
              "          await google.colab.output.renderOutput(dataTable, element);\n",
              "          const docLink = document.createElement('div');\n",
              "          docLink.innerHTML = docLinkHtml;\n",
              "          element.appendChild(docLink);\n",
              "        }\n",
              "      </script>\n",
              "    </div>\n",
              "  </div>\n",
              "  "
            ]
          },
          "metadata": {},
          "execution_count": 78
        }
      ]
    },
    {
      "cell_type": "code",
      "source": [
        "casa1['Hora'].hist()\n",
        "plt.title(\"Principais horários de entrada e saída do lote 209\")\n",
        "plt.show()"
      ],
      "metadata": {
        "colab": {
          "base_uri": "https://localhost:8080/",
          "height": 281
        },
        "id": "GrtTNbIEl-R6",
        "outputId": "d7e5a9b3-0909-4437-fa6d-47ce27c97ae6"
      },
      "execution_count": null,
      "outputs": [
        {
          "output_type": "display_data",
          "data": {
            "text/plain": [
              "<Figure size 432x288 with 1 Axes>"
            ],
            "image/png": "[encoded data removed]"
          },
          "metadata": {
            "needs_background": "light"
          }
        }
      ]
    },
    {
      "cell_type": "code",
      "source": [
        "plt.boxplot(casa1['Hora'])"
      ],
      "metadata": {
        "colab": {
          "base_uri": "https://localhost:8080/",
          "height": 404
        },
        "id": "sWVFGj5wmQXx",
        "outputId": "0afe95e6-6b0a-4335-9d50-24efba4f5924"
      },
      "execution_count": null,
      "outputs": [
        {
          "output_type": "execute_result",
          "data": {
            "text/plain": [
              "{'boxes': [<matplotlib.lines.Line2D at 0x7f5b9744bed0>],\n",
              " 'caps': [<matplotlib.lines.Line2D at 0x7f5b97445f90>,\n",
              "  <matplotlib.lines.Line2D at 0x7f5b97417510>],\n",
              " 'fliers': [<matplotlib.lines.Line2D at 0x7f5b97417fd0>],\n",
              " 'means': [],\n",
              " 'medians': [<matplotlib.lines.Line2D at 0x7f5b97417a90>],\n",
              " 'whiskers': [<matplotlib.lines.Line2D at 0x7f5b97445510>,\n",
              "  <matplotlib.lines.Line2D at 0x7f5b97445a50>]}"
            ]
          },
          "metadata": {},
          "execution_count": 80
        },
        {
          "output_type": "display_data",
          "data": {
            "text/plain": [
              "<Figure size 432x288 with 1 Axes>"
            ],
            "image/png": "[encoded data removed]"
          },
          "metadata": {
            "needs_background": "light"
          }
        }
      ]
    },
    {
      "cell_type": "code",
      "source": [
        "entrada_casa1 = casa1.loc[casa1['entrada_saida'] == 'Entrada']\n",
        "saida_casa1 = casa1.loc[casa1['entrada_saida'] == 'Saída']"
      ],
      "metadata": {
        "id": "cY580UX4mcjF"
      },
      "execution_count": null,
      "outputs": []
    },
    {
      "cell_type": "code",
      "source": [
        "saida_casa1['Hora'].hist()\n",
        "plt.title(\"Principais horários de saída do lote 209\")\n",
        "plt.show()"
      ],
      "metadata": {
        "colab": {
          "base_uri": "https://localhost:8080/",
          "height": 281
        },
        "id": "EuVvN4edSvx1",
        "outputId": "2186972b-81b5-440b-e742-cc2a1e64938a"
      },
      "execution_count": null,
      "outputs": [
        {
          "output_type": "display_data",
          "data": {
            "text/plain": [
              "<Figure size 432x288 with 1 Axes>"
            ],
            "image/png": "[encoded data removed]"
          },
          "metadata": {
            "needs_background": "light"
          }
        }
      ]
    },
    {
      "cell_type": "code",
      "source": [
        "entrada_casa1['Hora'].hist()\n",
        "plt.title(\"Principais horários de entrada do lote 209\")\n",
        "plt.show()"
      ],
      "metadata": {
        "colab": {
          "base_uri": "https://localhost:8080/",
          "height": 281
        },
        "id": "0H2nFbftTNgC",
        "outputId": "6b8db5e0-e560-43d5-d3f0-73dfec3dd5f5"
      },
      "execution_count": null,
      "outputs": [
        {
          "output_type": "display_data",
          "data": {
            "text/plain": [
              "<Figure size 432x288 with 1 Axes>"
            ],
            "image/png": "[encoded data removed]"
          },
          "metadata": {
            "needs_background": "light"
          }
        }
      ]
    },
    {
      "cell_type": "code",
      "source": [
        "casa1['dia_semana'].hist()\n",
        "plt.title(\"Principais dias da semana de entrada e saída do lote 209\")\n",
        "plt.show()"
      ],
      "metadata": {
        "colab": {
          "base_uri": "https://localhost:8080/",
          "height": 281
        },
        "id": "kShpY-gjS6-p",
        "outputId": "cdfb0fe1-56f9-4b76-f504-9c2301aca283"
      },
      "execution_count": null,
      "outputs": [
        {
          "output_type": "display_data",
          "data": {
            "text/plain": [
              "<Figure size 432x288 with 1 Axes>"
            ],
            "image/png": "[encoded data removed]"
          },
          "metadata": {
            "needs_background": "light"
          }
        }
      ]
    },
    {
      "cell_type": "code",
      "source": [
        "entrada_casa1.describe()"
      ],
      "metadata": {
        "colab": {
          "base_uri": "https://localhost:8080/",
          "height": 300
        },
        "id": "MnaCqNxkiFw1",
        "outputId": "fd70a413-d1c7-4077-ba83-f90049cc653a"
      },
      "execution_count": null,
      "outputs": [
        {
          "output_type": "execute_result",
          "data": {
            "text/plain": [
              "       nr_movimento  nr_condominio  nr_lote       Hora  dia_semana\n",
              "count  4.400000e+01           44.0     44.0  44.000000   44.000000\n",
              "mean   1.998242e+07           12.0    209.0  19.022727    2.659091\n",
              "std    3.431341e+03            0.0      0.0   1.438485    2.045337\n",
              "min    1.997766e+07           12.0    209.0  17.000000    0.000000\n",
              "25%    1.997877e+07           12.0    209.0  18.000000    1.000000\n",
              "50%    1.998202e+07           12.0    209.0  19.000000    2.500000\n",
              "75%    1.998552e+07           12.0    209.0  20.000000    5.000000\n",
              "max    1.998767e+07           12.0    209.0  21.000000    6.000000"
            ],
            "text/html": [
              "\n",
              "  <div id=\"df-3966f1d0-0d36-4dfe-be46-4667b2c84926\">\n",
              "    <div class=\"colab-df-container\">\n",
              "      <div>\n",
              "<style scoped>\n",
              "    .dataframe tbody tr th:only-of-type {\n",
              "        vertical-align: middle;\n",
              "    }\n",
              "\n",
              "    .dataframe tbody tr th {\n",
              "        vertical-align: top;\n",
              "    }\n",
              "\n",
              "    .dataframe thead th {\n",
              "        text-align: right;\n",
              "    }\n",
              "</style>\n",
              "<table border=\"1\" class=\"dataframe\">\n",
              "  <thead>\n",
              "    <tr style=\"text-align: right;\">\n",
              "      <th></th>\n",
              "      <th>nr_movimento</th>\n",
              "      <th>nr_condominio</th>\n",
              "      <th>nr_lote</th>\n",
              "      <th>Hora</th>\n",
              "      <th>dia_semana</th>\n",
              "    </tr>\n",
              "  </thead>\n",
              "  <tbody>\n",
              "    <tr>\n",
              "      <th>count</th>\n",
              "      <td>4.400000e+01</td>\n",
              "      <td>44.0</td>\n",
              "      <td>44.0</td>\n",
              "      <td>44.000000</td>\n",
              "      <td>44.000000</td>\n",
              "    </tr>\n",
              "    <tr>\n",
              "      <th>mean</th>\n",
              "      <td>1.998242e+07</td>\n",
              "      <td>12.0</td>\n",
              "      <td>209.0</td>\n",
              "      <td>19.022727</td>\n",
              "      <td>2.659091</td>\n",
              "    </tr>\n",
              "    <tr>\n",
              "      <th>std</th>\n",
              "      <td>3.431341e+03</td>\n",
              "      <td>0.0</td>\n",
              "      <td>0.0</td>\n",
              "      <td>1.438485</td>\n",
              "      <td>2.045337</td>\n",
              "    </tr>\n",
              "    <tr>\n",
              "      <th>min</th>\n",
              "      <td>1.997766e+07</td>\n",
              "      <td>12.0</td>\n",
              "      <td>209.0</td>\n",
              "      <td>17.000000</td>\n",
              "      <td>0.000000</td>\n",
              "    </tr>\n",
              "    <tr>\n",
              "      <th>25%</th>\n",
              "      <td>1.997877e+07</td>\n",
              "      <td>12.0</td>\n",
              "      <td>209.0</td>\n",
              "      <td>18.000000</td>\n",
              "      <td>1.000000</td>\n",
              "    </tr>\n",
              "    <tr>\n",
              "      <th>50%</th>\n",
              "      <td>1.998202e+07</td>\n",
              "      <td>12.0</td>\n",
              "      <td>209.0</td>\n",
              "      <td>19.000000</td>\n",
              "      <td>2.500000</td>\n",
              "    </tr>\n",
              "    <tr>\n",
              "      <th>75%</th>\n",
              "      <td>1.998552e+07</td>\n",
              "      <td>12.0</td>\n",
              "      <td>209.0</td>\n",
              "      <td>20.000000</td>\n",
              "      <td>5.000000</td>\n",
              "    </tr>\n",
              "    <tr>\n",
              "      <th>max</th>\n",
              "      <td>1.998767e+07</td>\n",
              "      <td>12.0</td>\n",
              "      <td>209.0</td>\n",
              "      <td>21.000000</td>\n",
              "      <td>6.000000</td>\n",
              "    </tr>\n",
              "  </tbody>\n",
              "</table>\n",
              "</div>\n",
              "      <button class=\"colab-df-convert\" onclick=\"convertToInteractive('df-3966f1d0-0d36-4dfe-be46-4667b2c84926')\"\n",
              "              title=\"Convert this dataframe to an interactive table.\"\n",
              "              style=\"display:none;\">\n",
              "        \n",
              "  <svg xmlns=\"http://www.w3.org/2000/svg\" height=\"24px\"viewBox=\"0 0 24 24\"\n",
              "       width=\"24px\">\n",
              "    <path d=\"M0 0h24v24H0V0z\" fill=\"none\"/>\n",
              "    <path d=\"M18.56 5.44l.94 2.06.94-2.06 2.06-.94-2.06-.94-.94-2.06-.94 2.06-2.06.94zm-11 1L8.5 8.5l.94-2.06 2.06-.94-2.06-.94L8.5 2.5l-.94 2.06-2.06.94zm10 10l.94 2.06.94-2.06 2.06-.94-2.06-.94-.94-2.06-.94 2.06-2.06.94z\"/><path d=\"M17.41 7.96l-1.37-1.37c-.4-.4-.92-.59-1.43-.59-.52 0-1.04.2-1.43.59L10.3 9.45l-7.72 7.72c-.78.78-.78 2.05 0 2.83L4 21.41c.39.39.9.59 1.41.59.51 0 1.02-.2 1.41-.59l7.78-7.78 2.81-2.81c.8-.78.8-2.07 0-2.86zM5.41 20L4 18.59l7.72-7.72 1.47 1.35L5.41 20z\"/>\n",
              "  </svg>\n",
              "      </button>\n",
              "      \n",
              "  <style>\n",
              "    .colab-df-container {\n",
              "      display:flex;\n",
              "      flex-wrap:wrap;\n",
              "      gap: 12px;\n",
              "    }\n",
              "\n",
              "    .colab-df-convert {\n",
              "      background-color: #E8F0FE;\n",
              "      border: none;\n",
              "      border-radius: 50%;\n",
              "      cursor: pointer;\n",
              "      display: none;\n",
              "      fill: #1967D2;\n",
              "      height: 32px;\n",
              "      padding: 0 0 0 0;\n",
              "      width: 32px;\n",
              "    }\n",
              "\n",
              "    .colab-df-convert:hover {\n",
              "      background-color: #E2EBFA;\n",
              "      box-shadow: 0px 1px 2px rgba(60, 64, 67, 0.3), 0px 1px 3px 1px rgba(60, 64, 67, 0.15);\n",
              "      fill: #174EA6;\n",
              "    }\n",
              "\n",
              "    [theme=dark] .colab-df-convert {\n",
              "      background-color: #3B4455;\n",
              "      fill: #D2E3FC;\n",
              "    }\n",
              "\n",
              "    [theme=dark] .colab-df-convert:hover {\n",
              "      background-color: #434B5C;\n",
              "      box-shadow: 0px 1px 3px 1px rgba(0, 0, 0, 0.15);\n",
              "      filter: drop-shadow(0px 1px 2px rgba(0, 0, 0, 0.3));\n",
              "      fill: #FFFFFF;\n",
              "    }\n",
              "  </style>\n",
              "\n",
              "      <script>\n",
              "        const buttonEl =\n",
              "          document.querySelector('#df-3966f1d0-0d36-4dfe-be46-4667b2c84926 button.colab-df-convert');\n",
              "        buttonEl.style.display =\n",
              "          google.colab.kernel.accessAllowed ? 'block' : 'none';\n",
              "\n",
              "        async function convertToInteractive(key) {\n",
              "          const element = document.querySelector('#df-3966f1d0-0d36-4dfe-be46-4667b2c84926');\n",
              "          const dataTable =\n",
              "            await google.colab.kernel.invokeFunction('convertToInteractive',\n",
              "                                                     [key], {});\n",
              "          if (!dataTable) return;\n",
              "\n",
              "          const docLinkHtml = 'Like what you see? Visit the ' +\n",
              "            '<a target=\"_blank\" href=https://colab.research.google.com/notebooks/data_table.ipynb>data table notebook</a>'\n",
              "            + ' to learn more about interactive tables.';\n",
              "          element.innerHTML = '';\n",
              "          dataTable['output_type'] = 'display_data';\n",
              "          await google.colab.output.renderOutput(dataTable, element);\n",
              "          const docLink = document.createElement('div');\n",
              "          docLink.innerHTML = docLinkHtml;\n",
              "          element.appendChild(docLink);\n",
              "        }\n",
              "      </script>\n",
              "    </div>\n",
              "  </div>\n",
              "  "
            ]
          },
          "metadata": {},
          "execution_count": 85
        }
      ]
    },
    {
      "cell_type": "code",
      "source": [
        "saida_casa1.describe()"
      ],
      "metadata": {
        "colab": {
          "base_uri": "https://localhost:8080/",
          "height": 300
        },
        "id": "Wa7V92wBsCIE",
        "outputId": "0207b5af-2066-46d1-d078-6d97642f857e"
      },
      "execution_count": null,
      "outputs": [
        {
          "output_type": "execute_result",
          "data": {
            "text/plain": [
              "       nr_movimento  nr_condominio  nr_lote       Hora  dia_semana\n",
              "count  4.400000e+01           44.0     44.0  44.000000   44.000000\n",
              "mean   1.988097e+07           12.0    209.0   8.909091    2.659091\n",
              "std    3.431341e+03            0.0      0.0   1.695660    2.045337\n",
              "min    1.987621e+07           12.0    209.0   7.000000    0.000000\n",
              "25%    1.987732e+07           12.0    209.0   7.750000    1.000000\n",
              "50%    1.988058e+07           12.0    209.0   9.000000    2.500000\n",
              "75%    1.988407e+07           12.0    209.0  10.000000    5.000000\n",
              "max    1.988622e+07           12.0    209.0  12.000000    6.000000"
            ],
            "text/html": [
              "\n",
              "  <div id=\"df-a8c22ca8-d44c-4790-bed8-b3fcac5ce9ed\">\n",
              "    <div class=\"colab-df-container\">\n",
              "      <div>\n",
              "<style scoped>\n",
              "    .dataframe tbody tr th:only-of-type {\n",
              "        vertical-align: middle;\n",
              "    }\n",
              "\n",
              "    .dataframe tbody tr th {\n",
              "        vertical-align: top;\n",
              "    }\n",
              "\n",
              "    .dataframe thead th {\n",
              "        text-align: right;\n",
              "    }\n",
              "</style>\n",
              "<table border=\"1\" class=\"dataframe\">\n",
              "  <thead>\n",
              "    <tr style=\"text-align: right;\">\n",
              "      <th></th>\n",
              "      <th>nr_movimento</th>\n",
              "      <th>nr_condominio</th>\n",
              "      <th>nr_lote</th>\n",
              "      <th>Hora</th>\n",
              "      <th>dia_semana</th>\n",
              "    </tr>\n",
              "  </thead>\n",
              "  <tbody>\n",
              "    <tr>\n",
              "      <th>count</th>\n",
              "      <td>4.400000e+01</td>\n",
              "      <td>44.0</td>\n",
              "      <td>44.0</td>\n",
              "      <td>44.000000</td>\n",
              "      <td>44.000000</td>\n",
              "    </tr>\n",
              "    <tr>\n",
              "      <th>mean</th>\n",
              "      <td>1.988097e+07</td>\n",
              "      <td>12.0</td>\n",
              "      <td>209.0</td>\n",
              "      <td>8.909091</td>\n",
              "      <td>2.659091</td>\n",
              "    </tr>\n",
              "    <tr>\n",
              "      <th>std</th>\n",
              "      <td>3.431341e+03</td>\n",
              "      <td>0.0</td>\n",
              "      <td>0.0</td>\n",
              "      <td>1.695660</td>\n",
              "      <td>2.045337</td>\n",
              "    </tr>\n",
              "    <tr>\n",
              "      <th>min</th>\n",
              "      <td>1.987621e+07</td>\n",
              "      <td>12.0</td>\n",
              "      <td>209.0</td>\n",
              "      <td>7.000000</td>\n",
              "      <td>0.000000</td>\n",
              "    </tr>\n",
              "    <tr>\n",
              "      <th>25%</th>\n",
              "      <td>1.987732e+07</td>\n",
              "      <td>12.0</td>\n",
              "      <td>209.0</td>\n",
              "      <td>7.750000</td>\n",
              "      <td>1.000000</td>\n",
              "    </tr>\n",
              "    <tr>\n",
              "      <th>50%</th>\n",
              "      <td>1.988058e+07</td>\n",
              "      <td>12.0</td>\n",
              "      <td>209.0</td>\n",
              "      <td>9.000000</td>\n",
              "      <td>2.500000</td>\n",
              "    </tr>\n",
              "    <tr>\n",
              "      <th>75%</th>\n",
              "      <td>1.988407e+07</td>\n",
              "      <td>12.0</td>\n",
              "      <td>209.0</td>\n",
              "      <td>10.000000</td>\n",
              "      <td>5.000000</td>\n",
              "    </tr>\n",
              "    <tr>\n",
              "      <th>max</th>\n",
              "      <td>1.988622e+07</td>\n",
              "      <td>12.0</td>\n",
              "      <td>209.0</td>\n",
              "      <td>12.000000</td>\n",
              "      <td>6.000000</td>\n",
              "    </tr>\n",
              "  </tbody>\n",
              "</table>\n",
              "</div>\n",
              "      <button class=\"colab-df-convert\" onclick=\"convertToInteractive('df-a8c22ca8-d44c-4790-bed8-b3fcac5ce9ed')\"\n",
              "              title=\"Convert this dataframe to an interactive table.\"\n",
              "              style=\"display:none;\">\n",
              "        \n",
              "  <svg xmlns=\"http://www.w3.org/2000/svg\" height=\"24px\"viewBox=\"0 0 24 24\"\n",
              "       width=\"24px\">\n",
              "    <path d=\"M0 0h24v24H0V0z\" fill=\"none\"/>\n",
              "    <path d=\"M18.56 5.44l.94 2.06.94-2.06 2.06-.94-2.06-.94-.94-2.06-.94 2.06-2.06.94zm-11 1L8.5 8.5l.94-2.06 2.06-.94-2.06-.94L8.5 2.5l-.94 2.06-2.06.94zm10 10l.94 2.06.94-2.06 2.06-.94-2.06-.94-.94-2.06-.94 2.06-2.06.94z\"/><path d=\"M17.41 7.96l-1.37-1.37c-.4-.4-.92-.59-1.43-.59-.52 0-1.04.2-1.43.59L10.3 9.45l-7.72 7.72c-.78.78-.78 2.05 0 2.83L4 21.41c.39.39.9.59 1.41.59.51 0 1.02-.2 1.41-.59l7.78-7.78 2.81-2.81c.8-.78.8-2.07 0-2.86zM5.41 20L4 18.59l7.72-7.72 1.47 1.35L5.41 20z\"/>\n",
              "  </svg>\n",
              "      </button>\n",
              "      \n",
              "  <style>\n",
              "    .colab-df-container {\n",
              "      display:flex;\n",
              "      flex-wrap:wrap;\n",
              "      gap: 12px;\n",
              "    }\n",
              "\n",
              "    .colab-df-convert {\n",
              "      background-color: #E8F0FE;\n",
              "      border: none;\n",
              "      border-radius: 50%;\n",
              "      cursor: pointer;\n",
              "      display: none;\n",
              "      fill: #1967D2;\n",
              "      height: 32px;\n",
              "      padding: 0 0 0 0;\n",
              "      width: 32px;\n",
              "    }\n",
              "\n",
              "    .colab-df-convert:hover {\n",
              "      background-color: #E2EBFA;\n",
              "      box-shadow: 0px 1px 2px rgba(60, 64, 67, 0.3), 0px 1px 3px 1px rgba(60, 64, 67, 0.15);\n",
              "      fill: #174EA6;\n",
              "    }\n",
              "\n",
              "    [theme=dark] .colab-df-convert {\n",
              "      background-color: #3B4455;\n",
              "      fill: #D2E3FC;\n",
              "    }\n",
              "\n",
              "    [theme=dark] .colab-df-convert:hover {\n",
              "      background-color: #434B5C;\n",
              "      box-shadow: 0px 1px 3px 1px rgba(0, 0, 0, 0.15);\n",
              "      filter: drop-shadow(0px 1px 2px rgba(0, 0, 0, 0.3));\n",
              "      fill: #FFFFFF;\n",
              "    }\n",
              "  </style>\n",
              "\n",
              "      <script>\n",
              "        const buttonEl =\n",
              "          document.querySelector('#df-a8c22ca8-d44c-4790-bed8-b3fcac5ce9ed button.colab-df-convert');\n",
              "        buttonEl.style.display =\n",
              "          google.colab.kernel.accessAllowed ? 'block' : 'none';\n",
              "\n",
              "        async function convertToInteractive(key) {\n",
              "          const element = document.querySelector('#df-a8c22ca8-d44c-4790-bed8-b3fcac5ce9ed');\n",
              "          const dataTable =\n",
              "            await google.colab.kernel.invokeFunction('convertToInteractive',\n",
              "                                                     [key], {});\n",
              "          if (!dataTable) return;\n",
              "\n",
              "          const docLinkHtml = 'Like what you see? Visit the ' +\n",
              "            '<a target=\"_blank\" href=https://colab.research.google.com/notebooks/data_table.ipynb>data table notebook</a>'\n",
              "            + ' to learn more about interactive tables.';\n",
              "          element.innerHTML = '';\n",
              "          dataTable['output_type'] = 'display_data';\n",
              "          await google.colab.output.renderOutput(dataTable, element);\n",
              "          const docLink = document.createElement('div');\n",
              "          docLink.innerHTML = docLinkHtml;\n",
              "          element.appendChild(docLink);\n",
              "        }\n",
              "      </script>\n",
              "    </div>\n",
              "  </div>\n",
              "  "
            ]
          },
          "metadata": {},
          "execution_count": 86
        }
      ]
    },
    {
      "cell_type": "code",
      "source": [
        "entrada_casa1.describe()"
      ],
      "metadata": {
        "colab": {
          "base_uri": "https://localhost:8080/",
          "height": 300
        },
        "id": "AsbewETy_6hb",
        "outputId": "ce4b2e9d-0c22-4b9d-9c91-cfbf246a24ce"
      },
      "execution_count": null,
      "outputs": [
        {
          "output_type": "execute_result",
          "data": {
            "text/plain": [
              "       nr_movimento  nr_condominio  nr_lote       Hora  dia_semana\n",
              "count  4.400000e+01           44.0     44.0  44.000000   44.000000\n",
              "mean   1.998242e+07           12.0    209.0  19.022727    2.659091\n",
              "std    3.431341e+03            0.0      0.0   1.438485    2.045337\n",
              "min    1.997766e+07           12.0    209.0  17.000000    0.000000\n",
              "25%    1.997877e+07           12.0    209.0  18.000000    1.000000\n",
              "50%    1.998202e+07           12.0    209.0  19.000000    2.500000\n",
              "75%    1.998552e+07           12.0    209.0  20.000000    5.000000\n",
              "max    1.998767e+07           12.0    209.0  21.000000    6.000000"
            ],
            "text/html": [
              "\n",
              "  <div id=\"df-135a3e85-7041-41e3-836d-89649f6cbde8\">\n",
              "    <div class=\"colab-df-container\">\n",
              "      <div>\n",
              "<style scoped>\n",
              "    .dataframe tbody tr th:only-of-type {\n",
              "        vertical-align: middle;\n",
              "    }\n",
              "\n",
              "    .dataframe tbody tr th {\n",
              "        vertical-align: top;\n",
              "    }\n",
              "\n",
              "    .dataframe thead th {\n",
              "        text-align: right;\n",
              "    }\n",
              "</style>\n",
              "<table border=\"1\" class=\"dataframe\">\n",
              "  <thead>\n",
              "    <tr style=\"text-align: right;\">\n",
              "      <th></th>\n",
              "      <th>nr_movimento</th>\n",
              "      <th>nr_condominio</th>\n",
              "      <th>nr_lote</th>\n",
              "      <th>Hora</th>\n",
              "      <th>dia_semana</th>\n",
              "    </tr>\n",
              "  </thead>\n",
              "  <tbody>\n",
              "    <tr>\n",
              "      <th>count</th>\n",
              "      <td>4.400000e+01</td>\n",
              "      <td>44.0</td>\n",
              "      <td>44.0</td>\n",
              "      <td>44.000000</td>\n",
              "      <td>44.000000</td>\n",
              "    </tr>\n",
              "    <tr>\n",
              "      <th>mean</th>\n",
              "      <td>1.998242e+07</td>\n",
              "      <td>12.0</td>\n",
              "      <td>209.0</td>\n",
              "      <td>19.022727</td>\n",
              "      <td>2.659091</td>\n",
              "    </tr>\n",
              "    <tr>\n",
              "      <th>std</th>\n",
              "      <td>3.431341e+03</td>\n",
              "      <td>0.0</td>\n",
              "      <td>0.0</td>\n",
              "      <td>1.438485</td>\n",
              "      <td>2.045337</td>\n",
              "    </tr>\n",
              "    <tr>\n",
              "      <th>min</th>\n",
              "      <td>1.997766e+07</td>\n",
              "      <td>12.0</td>\n",
              "      <td>209.0</td>\n",
              "      <td>17.000000</td>\n",
              "      <td>0.000000</td>\n",
              "    </tr>\n",
              "    <tr>\n",
              "      <th>25%</th>\n",
              "      <td>1.997877e+07</td>\n",
              "      <td>12.0</td>\n",
              "      <td>209.0</td>\n",
              "      <td>18.000000</td>\n",
              "      <td>1.000000</td>\n",
              "    </tr>\n",
              "    <tr>\n",
              "      <th>50%</th>\n",
              "      <td>1.998202e+07</td>\n",
              "      <td>12.0</td>\n",
              "      <td>209.0</td>\n",
              "      <td>19.000000</td>\n",
              "      <td>2.500000</td>\n",
              "    </tr>\n",
              "    <tr>\n",
              "      <th>75%</th>\n",
              "      <td>1.998552e+07</td>\n",
              "      <td>12.0</td>\n",
              "      <td>209.0</td>\n",
              "      <td>20.000000</td>\n",
              "      <td>5.000000</td>\n",
              "    </tr>\n",
              "    <tr>\n",
              "      <th>max</th>\n",
              "      <td>1.998767e+07</td>\n",
              "      <td>12.0</td>\n",
              "      <td>209.0</td>\n",
              "      <td>21.000000</td>\n",
              "      <td>6.000000</td>\n",
              "    </tr>\n",
              "  </tbody>\n",
              "</table>\n",
              "</div>\n",
              "      <button class=\"colab-df-convert\" onclick=\"convertToInteractive('df-135a3e85-7041-41e3-836d-89649f6cbde8')\"\n",
              "              title=\"Convert this dataframe to an interactive table.\"\n",
              "              style=\"display:none;\">\n",
              "        \n",
              "  <svg xmlns=\"http://www.w3.org/2000/svg\" height=\"24px\"viewBox=\"0 0 24 24\"\n",
              "       width=\"24px\">\n",
              "    <path d=\"M0 0h24v24H0V0z\" fill=\"none\"/>\n",
              "    <path d=\"M18.56 5.44l.94 2.06.94-2.06 2.06-.94-2.06-.94-.94-2.06-.94 2.06-2.06.94zm-11 1L8.5 8.5l.94-2.06 2.06-.94-2.06-.94L8.5 2.5l-.94 2.06-2.06.94zm10 10l.94 2.06.94-2.06 2.06-.94-2.06-.94-.94-2.06-.94 2.06-2.06.94z\"/><path d=\"M17.41 7.96l-1.37-1.37c-.4-.4-.92-.59-1.43-.59-.52 0-1.04.2-1.43.59L10.3 9.45l-7.72 7.72c-.78.78-.78 2.05 0 2.83L4 21.41c.39.39.9.59 1.41.59.51 0 1.02-.2 1.41-.59l7.78-7.78 2.81-2.81c.8-.78.8-2.07 0-2.86zM5.41 20L4 18.59l7.72-7.72 1.47 1.35L5.41 20z\"/>\n",
              "  </svg>\n",
              "      </button>\n",
              "      \n",
              "  <style>\n",
              "    .colab-df-container {\n",
              "      display:flex;\n",
              "      flex-wrap:wrap;\n",
              "      gap: 12px;\n",
              "    }\n",
              "\n",
              "    .colab-df-convert {\n",
              "      background-color: #E8F0FE;\n",
              "      border: none;\n",
              "      border-radius: 50%;\n",
              "      cursor: pointer;\n",
              "      display: none;\n",
              "      fill: #1967D2;\n",
              "      height: 32px;\n",
              "      padding: 0 0 0 0;\n",
              "      width: 32px;\n",
              "    }\n",
              "\n",
              "    .colab-df-convert:hover {\n",
              "      background-color: #E2EBFA;\n",
              "      box-shadow: 0px 1px 2px rgba(60, 64, 67, 0.3), 0px 1px 3px 1px rgba(60, 64, 67, 0.15);\n",
              "      fill: #174EA6;\n",
              "    }\n",
              "\n",
              "    [theme=dark] .colab-df-convert {\n",
              "      background-color: #3B4455;\n",
              "      fill: #D2E3FC;\n",
              "    }\n",
              "\n",
              "    [theme=dark] .colab-df-convert:hover {\n",
              "      background-color: #434B5C;\n",
              "      box-shadow: 0px 1px 3px 1px rgba(0, 0, 0, 0.15);\n",
              "      filter: drop-shadow(0px 1px 2px rgba(0, 0, 0, 0.3));\n",
              "      fill: #FFFFFF;\n",
              "    }\n",
              "  </style>\n",
              "\n",
              "      <script>\n",
              "        const buttonEl =\n",
              "          document.querySelector('#df-135a3e85-7041-41e3-836d-89649f6cbde8 button.colab-df-convert');\n",
              "        buttonEl.style.display =\n",
              "          google.colab.kernel.accessAllowed ? 'block' : 'none';\n",
              "\n",
              "        async function convertToInteractive(key) {\n",
              "          const element = document.querySelector('#df-135a3e85-7041-41e3-836d-89649f6cbde8');\n",
              "          const dataTable =\n",
              "            await google.colab.kernel.invokeFunction('convertToInteractive',\n",
              "                                                     [key], {});\n",
              "          if (!dataTable) return;\n",
              "\n",
              "          const docLinkHtml = 'Like what you see? Visit the ' +\n",
              "            '<a target=\"_blank\" href=https://colab.research.google.com/notebooks/data_table.ipynb>data table notebook</a>'\n",
              "            + ' to learn more about interactive tables.';\n",
              "          element.innerHTML = '';\n",
              "          dataTable['output_type'] = 'display_data';\n",
              "          await google.colab.output.renderOutput(dataTable, element);\n",
              "          const docLink = document.createElement('div');\n",
              "          docLink.innerHTML = docLinkHtml;\n",
              "          element.appendChild(docLink);\n",
              "        }\n",
              "      </script>\n",
              "    </div>\n",
              "  </div>\n",
              "  "
            ]
          },
          "metadata": {},
          "execution_count": 87
        }
      ]
    },
    {
      "cell_type": "code",
      "source": [
        "entrada_casa1['Hora'].corr(entrada_casa1['dia_semana'])"
      ],
      "metadata": {
        "colab": {
          "base_uri": "https://localhost:8080/"
        },
        "id": "tmj8xhQjzNqt",
        "outputId": "7804c241-776c-4c5a-d437-da97b3fe9c62"
      },
      "execution_count": null,
      "outputs": [
        {
          "output_type": "execute_result",
          "data": {
            "text/plain": [
              "0.018503159047701244"
            ]
          },
          "metadata": {},
          "execution_count": 88
        }
      ]
    },
    {
      "cell_type": "code",
      "source": [
        "saida_casa1.hist(by='dia_semana', column='Hora')\n",
        "plt.show()"
      ],
      "metadata": {
        "colab": {
          "base_uri": "https://localhost:8080/",
          "height": 282
        },
        "id": "HReg7sfcUppN",
        "outputId": "367c5fb4-8afc-48e4-a6ce-e5778ff136bc"
      },
      "execution_count": null,
      "outputs": [
        {
          "output_type": "display_data",
          "data": {
            "text/plain": [
              "<Figure size 432x288 with 9 Axes>"
            ],
            "image/png": "[encoded data removed]"
          },
          "metadata": {
            "needs_background": "light"
          }
        }
      ]
    },
    {
      "cell_type": "code",
      "source": [
        "entrada_casa1.hist(by='dia_semana', column='Hora')\n",
        "plt.show()"
      ],
      "metadata": {
        "colab": {
          "base_uri": "https://localhost:8080/",
          "height": 292
        },
        "id": "xIIffTLpUXi9",
        "outputId": "ae52d8fe-8b70-4bea-d384-fcc200143541"
      },
      "execution_count": null,
      "outputs": [
        {
          "output_type": "display_data",
          "data": {
            "text/plain": [
              "<Figure size 432x288 with 9 Axes>"
            ],
            "image/png": "[encoded data removed]"
          },
          "metadata": {
            "needs_background": "light"
          }
        }
      ]
    },
    {
      "cell_type": "code",
      "source": [
        "dias_semana = ['Domingo', 'Segunda-Feira', 'Terça-Feira', 'Quarta-Feira', 'Quinta-Feira', 'Sexta-Feira', 'Sábado']\n",
        "for i in range(len(dias_semana)):\n",
        "  flowers_queen = saida_casa1.loc[saida_casa1['dia_semana'] == i]\n",
        "  flowers_queen_analises = flowers_queen[['Data_Movimentacao', 'dia_semana']]\n",
        "  flowers_queen_analises.set_index('Data_Movimentacao', inplace = True)\n",
        "  dados_flowers_queen_agg = flowers_queen_analises.groupby(pd.Grouper(freq='M')).count()\n",
        "  dados_flowers_queen_agg.plot()\n",
        "  plt.title('Movimentação {} nos últimos meses'.format(dias_semana[i]))\n",
        "  plt.show()"
      ],
      "metadata": {
        "colab": {
          "base_uri": "https://localhost:8080/",
          "height": 1000
        },
        "id": "GvN6WFTnScqt",
        "outputId": "3cf0d57f-df88-477d-c666-746c7dc5f071"
      },
      "execution_count": null,
      "outputs": [
        {
          "output_type": "display_data",
          "data": {
            "text/plain": [
              "<Figure size 432x288 with 1 Axes>"
            ],
            "image/png": "[encoded data removed]"
          },
          "metadata": {
            "needs_background": "light"
          }
        },
        {
          "output_type": "display_data",
          "data": {
            "text/plain": [
              "<Figure size 432x288 with 1 Axes>"
            ],
            "image/png": "[encoded data removed]"
          },
          "metadata": {
            "needs_background": "light"
          }
        },
        {
          "output_type": "display_data",
          "data": {
            "text/plain": [
              "<Figure size 432x288 with 1 Axes>"
            ],
            "image/png": "[encoded data removed]"
          },
          "metadata": {
            "needs_background": "light"
          }
        },
        {
          "output_type": "display_data",
          "data": {
            "text/plain": [
              "<Figure size 432x288 with 1 Axes>"
            ],
            "image/png": "[encoded data removed]"
          },
          "metadata": {
            "needs_background": "light"
          }
        },
        {
          "output_type": "display_data",
          "data": {
            "text/plain": [
              "<Figure size 432x288 with 1 Axes>"
            ],
            "image/png": "[encoded data removed]"
          },
          "metadata": {
            "needs_background": "light"
          }
        },
        {
          "output_type": "display_data",
          "data": {
            "text/plain": [
              "<Figure size 432x288 with 1 Axes>"
            ],
            "image/png": "[encoded data removed]"
          },
          "metadata": {
            "needs_background": "light"
          }
        },
        {
          "output_type": "display_data",
          "data": {
            "text/plain": [
              "<Figure size 432x288 with 1 Axes>"
            ],
            "image/png": "[encoded data removed]"
          },
          "metadata": {
            "needs_background": "light"
          }
        }
      ]
    },
    {
      "cell_type": "code",
      "source": [
        "df_portaria['nr_lote'].value_counts()"
      ],
      "metadata": {
        "colab": {
          "base_uri": "https://localhost:8080/"
        },
        "id": "Jyg2zy2RckC4",
        "outputId": "b5b1e453-16dc-4580-9420-0df9b0d18bcb"
      },
      "execution_count": null,
      "outputs": [
        {
          "output_type": "execute_result",
          "data": {
            "text/plain": [
              "9      304\n",
              "7      296\n",
              "26     270\n",
              "1      270\n",
              "11     264\n",
              "      ... \n",
              "118     62\n",
              "201     62\n",
              "73      60\n",
              "179     58\n",
              "158     58\n",
              "Name: nr_lote, Length: 222, dtype: int64"
            ]
          },
          "metadata": {},
          "execution_count": 92
        }
      ]
    }
  ]
}